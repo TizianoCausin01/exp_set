{
 "cells": [
  {
   "cell_type": "code",
   "execution_count": 2,
   "id": "a1f7eb96-5206-43cd-8073-60f6bf647c49",
   "metadata": {},
   "outputs": [],
   "source": [
    "from sklearn.cluster import KMeans # KMedoids clust = KMedoids(n_clusters=20, random_state=0, metric='euclidean').fit(d1)\n",
    "import numpy as np\n",
    "import joblib\n",
    "import os, yaml, sys\n",
    "ENV = os.getenv(\"MY_ENV\", \"dev\")\n",
    "with open(\"../../config.yaml\", \"r\") as f:\n",
    "    config = yaml.safe_load(f)\n",
    "paths = config[ENV][\"paths\"]\n",
    "sys.path.append(paths[\"src_path\"])\n",
    "from dim_redu_anns.utils import get_relevant_output_layers\n",
    "from sparsity_in_silico.sparsity_CNN import response_prob, rust_sparseness\n",
    "from sklearn.cluster import KMeans\n",
    "from torchvision.models.feature_extraction import (\n",
    "    create_feature_extractor,\n",
    "    get_graph_node_names,\n",
    ")\n",
    "from torchvision import models\n",
    "import matplotlib.pyplot as plt\n",
    "from torch.utils.data import DataLoader\n",
    "from torchvision import datasets, transforms\n",
    "from matplotlib.offsetbox import OffsetImage, AnnotationBbox\n",
    "from alignment.utils import get_usual_transform\n",
    "import math\n"
   ]
  },
  {
   "cell_type": "code",
   "execution_count": 3,
   "id": "0ed089f6-c090-4ce8-b83f-f7619f96d24b",
   "metadata": {},
   "outputs": [],
   "source": [
    "model_name = \"alexnet\"\n",
    "target_layer = \"classifier.2\"\n",
    "pooling = \"ran\"\n",
    "path2data = f\"{paths['results_path']}/imagenet_val_{model_name}_{target_layer}_{pooling}_features.pkl\""
   ]
  },
  {
   "cell_type": "code",
   "execution_count": 4,
   "id": "7727d0fe-2ac8-4ec4-a05c-9dc7ea6c68e4",
   "metadata": {},
   "outputs": [],
   "source": [
    "data = joblib.load(path2data)"
   ]
  },
  {
   "cell_type": "code",
   "execution_count": 5,
   "id": "744941bb-3b45-457f-944e-5d115541e636",
   "metadata": {},
   "outputs": [],
   "source": [
    "variances = np.var(data, axis=0)\n",
    "data_nonconst = data[:, variances != 0]"
   ]
  },
  {
   "cell_type": "code",
   "execution_count": 6,
   "id": "6e9226e1-a232-4441-b299-414d6b588528",
   "metadata": {},
   "outputs": [
    {
     "ename": "KeyboardInterrupt",
     "evalue": "",
     "output_type": "error",
     "traceback": [
      "\u001b[31m---------------------------------------------------------------------------\u001b[39m",
      "\u001b[31mKeyboardInterrupt\u001b[39m                         Traceback (most recent call last)",
      "\u001b[36mCell\u001b[39m\u001b[36m \u001b[39m\u001b[32mIn[6]\u001b[39m\u001b[32m, line 18\u001b[39m\n\u001b[32m     16\u001b[39m \u001b[38;5;66;03m#print(\"size curr_data\", curr_data.shape)\u001b[39;00m\n\u001b[32m     17\u001b[39m curr_RDM = curr_data @ curr_data.T\n\u001b[32m---> \u001b[39m\u001b[32m18\u001b[39m curr_RDM_idx = \u001b[43mnp\u001b[49m\u001b[43m.\u001b[49m\u001b[43mtril_indices\u001b[49m\u001b[43m(\u001b[49m\u001b[43mcurr_RDM\u001b[49m\u001b[43m.\u001b[49m\u001b[43mshape\u001b[49m\u001b[43m[\u001b[49m\u001b[32;43m0\u001b[39;49m\u001b[43m]\u001b[49m\u001b[43m,\u001b[49m\u001b[43m \u001b[49m\u001b[43mk\u001b[49m\u001b[43m=\u001b[49m\u001b[43m-\u001b[49m\u001b[32;43m1\u001b[39;49m\u001b[43m)\u001b[49m\n\u001b[32m     19\u001b[39m curr_flat_RDM = curr_RDM[curr_RDM_idx]\n\u001b[32m     20\u001b[39m \u001b[38;5;66;03m#curr_resp_prob = rust_sparseness(curr_data.T)\u001b[39;00m\n",
      "\u001b[36mFile \u001b[39m\u001b[32m~/Desktop/virtual_envs/ponce_env/lib/python3.12/site-packages/numpy/lib/_twodim_base_impl.py:907\u001b[39m, in \u001b[36mtril_indices\u001b[39m\u001b[34m(n, k, m)\u001b[39m\n\u001b[32m    903\u001b[39m     a = mask_func(m, k)\n\u001b[32m    904\u001b[39m     \u001b[38;5;28;01mreturn\u001b[39;00m nonzero(a != \u001b[32m0\u001b[39m)\n\u001b[32m--> \u001b[39m\u001b[32m907\u001b[39m \u001b[38;5;129m@set_module\u001b[39m(\u001b[33m'\u001b[39m\u001b[33mnumpy\u001b[39m\u001b[33m'\u001b[39m)\n\u001b[32m    908\u001b[39m \u001b[38;5;28;01mdef\u001b[39;00m\u001b[38;5;250m \u001b[39m\u001b[34mtril_indices\u001b[39m(n, k=\u001b[32m0\u001b[39m, m=\u001b[38;5;28;01mNone\u001b[39;00m):\n\u001b[32m    909\u001b[39m \u001b[38;5;250m    \u001b[39m\u001b[33;03m\"\"\"\u001b[39;00m\n\u001b[32m    910\u001b[39m \u001b[33;03m    Return the indices for the lower-triangle of an (n, m) array.\u001b[39;00m\n\u001b[32m    911\u001b[39m \n\u001b[32m   (...)\u001b[39m\u001b[32m    984\u001b[39m \n\u001b[32m    985\u001b[39m \u001b[33;03m    \"\"\"\u001b[39;00m\n\u001b[32m    986\u001b[39m     tri_ = tri(n, m, k=k, dtype=\u001b[38;5;28mbool\u001b[39m)\n",
      "\u001b[31mKeyboardInterrupt\u001b[39m: "
     ]
    },
    {
     "data": {
      "image/png": "[encoded data removed]",
      "text/plain": [
       "<Figure size 1200x500 with 3 Axes>"
      ]
     },
     "metadata": {},
     "output_type": "display_data"
    }
   ],
   "source": [
    "# do random subsampling (repeated many times) and see when this happens to converge\n",
    "# TODO\n",
    "start, stop, step = 50, 100, 50\n",
    "startn, stopn, stepn = 50, 500, 50\n",
    "num_reps = 5\n",
    "fig, axs = plt.subplots(1, 3, figsize=(12, 5)) \n",
    "for rand_neu_N in range(startn, stopn, stepn):\n",
    "    correlations = []\n",
    "    sem = []\n",
    "    frob_norms = []\n",
    "    sem_fn = []\n",
    "    #klds = []\n",
    "    #sem_klds = []\n",
    "    random_neu = np.random.choice(data_nonconst.shape[1], rand_neu_N, replace=False)    \n",
    "    curr_data = data_nonconst[:,random_neu]\n",
    "    #print(\"size curr_data\", curr_data.shape)\n",
    "    curr_RDM = curr_data @ curr_data.T\n",
    "    curr_RDM_idx = np.tril_indices(curr_RDM.shape[0], k=-1)\n",
    "    curr_flat_RDM = curr_RDM[curr_RDM_idx]\n",
    "    #curr_resp_prob = rust_sparseness(curr_data.T)\n",
    "    for N in range(start, stop, step): \n",
    "        curr_corr = []\n",
    "        curr_fn = []\n",
    "        #curr_kld = []\n",
    "        for rep in range(num_reps):\n",
    "            random_samples = np.random.choice(data_nonconst.shape[0], N, replace=False)\n",
    "            new_data = curr_data[random_samples,:]\n",
    "            #print(\"size new_data\", new_data.shape)\n",
    "            new_RDM = new_data @ new_data.T\n",
    "            new_RDM_idx = np.tril_indices(new_RDM.shape[0], k=-1)\n",
    "            flat_new_RDM = new_RDM[new_RDM_idx]\n",
    "            r = np.corrcoef(curr_flat_RDM, flat_new_RDM)[0,1]\n",
    "            curr_corr.append(r)\n",
    "            \n",
    "            fn = sum_of_square_deviations(curr_flat_RDM, flat_new_RDM)\n",
    "            curr_fn.append(fn)\n",
    "            \n",
    "            #new_resp_prob = rust_sparseness(new_data.T)\n",
    "            #kld, pval = spearmanr(curr_flat_RDM, flat_new_RDM)\n",
    "            #curr_kld.append(kld)\n",
    "            #curr_kld.append(kld)\n",
    "        # for rep in range(num_reps):\n",
    "        avg_r = np.mean(np.stack(curr_corr))\n",
    "        sem_r = np.std(np.stack(curr_corr))\n",
    "        correlations.append(avg_r)\n",
    "        sem.append(sem_r)\n",
    "        \n",
    "        avg_fn = np.mean(np.stack(curr_fn))\n",
    "        curr_sem_fn = np.std(np.stack(curr_fn))\n",
    "        frob_norms.append(avg_fn)\n",
    "        sem_fn.append(curr_sem_fn)\n",
    "\n",
    "        #avg_kld = np.mean(np.stack(curr_kld))\n",
    "        #curr_sem_kld = np.std(np.stack(curr_kld))\n",
    "        #klds.append(avg_kld)\n",
    "        #sem_klds.append(curr_sem_kld)\n",
    "    # end for N in range(start, stop, step):\n",
    "    axs[0].plot(range(start, stop, step), correlations, marker='o', label=f\"rand_neu_N = {rand_neu_N}\")\n",
    "    axs[0].fill_between(range(start, stop, step),\n",
    "                        np.stack(correlations) - np.stack(sem),\n",
    "                        np.stack(correlations) + np.stack(sem),\n",
    "                        alpha=0.3, label=\"_nolegend_\")\n",
    "    axs[0].set_xlabel(\"#stimuli (subsampled)\")\n",
    "    axs[0].set_ylabel(\"Correlation\")\n",
    "    axs[0].legend()\n",
    "    \n",
    "    axs[1].plot(range(start, stop, step), frob_norms, marker='x', label=f\"rand_neu_N = {rand_neu_N}\")\n",
    "    axs[1].fill_between(range(start, stop, step),\n",
    "                    np.stack(frob_norms) - np.stack(sem_fn),\n",
    "                    np.stack(frob_norms) + np.stack(sem_fn),\n",
    "                    alpha=0.3, label=\"_nolegend_\")\n",
    "    axs[1].set_xlabel(\"#stimuli (subsampled)\")\n",
    "    axs[1].set_ylabel(\"normalized Frobenius norm\")\n",
    "    axs[1].legend()\n",
    "    \"\"\"\n",
    "    axs[2].plot(range(start, stop, step), klds, marker='x', label=f\"rand_neu_N = {rand_neu_N}\")\n",
    "    axs[2].fill_between(range(start, stop, step),\n",
    "                    np.stack(klds) - np.stack(sem_klds),\n",
    "                    np.stack(klds) + np.stack(sem_klds),\n",
    "                    alpha=0.3, label=\"_nolegend_\")\n",
    "    axs[2].set_xlabel(\"#stimuli (subsampled)\")\n",
    "    axs[2].set_ylabel(\"kld\")\n",
    "    axs[2].legend()\n",
    "    \"\"\"\n",
    "# for rand_neu in range(startn, stopn, stepn):\n",
    "plt.tight_layout()\n",
    "plt.show()"
   ]
  },
  {
   "cell_type": "code",
   "execution_count": null,
   "id": "d077bed0-19d4-4d8a-b8b5-bd8f48c535bd",
   "metadata": {},
   "outputs": [],
   "source": [
    "plt.xlabel(\"#stimuli (subsampled)\")\n",
    "plt.ylabel(\"Correlation (RDMs)\")\n",
    "plt.legend(range(startn, stopn, stepn))\n",
    "plt.tight_layout()\n",
    "plt.show()"
   ]
  },
  {
   "cell_type": "code",
   "execution_count": 32,
   "id": "418ceed9-d4b6-4cb6-b8c3-e2675889712f",
   "metadata": {},
   "outputs": [],
   "source": [
    "def sum_of_square_deviations(cov, cov_estim):\n",
    "    diff_mat = cov - cov_estim\n",
    "    sq_diff_mat = diff_mat**2\n",
    "    d = np.shape(cov)[0]\n",
    "    diff_frob_norm = np.sqrt(np.sum(sq_diff_mat))\n",
    "    return diff_frob_norm/d"
   ]
  },
  {
   "cell_type": "code",
   "execution_count": 56,
   "id": "f8f2a185-a711-43ce-8ae0-b7f10116dbda",
   "metadata": {},
   "outputs": [],
   "source": [
    "def cont_kld(samples_p, samples_q):\n",
    "    kde_p = gaussian_kde(samples_p)\n",
    "    kde_q = gaussian_kde(samples_q)\n",
    "    \n",
    "    # Define shared domain\n",
    "    xmin = min(samples_p.min(), samples_q.min())\n",
    "    xmax = max(samples_p.max(), samples_q.max())\n",
    "    margin = (xmax - xmin) * 0.1\n",
    "    \n",
    "    # Get bandwidth estimate from KDE\n",
    "    # Use the average bandwidth for sampling density\n",
    "    std_p = samples_p.std()\n",
    "    std_q = samples_q.std()\n",
    "    bw_p = kde_p.factor * std_p\n",
    "    bw_q = kde_q.factor * std_q\n",
    "    bandwidth = (bw_p + bw_q) / 2\n",
    "    points_per_band = 20\n",
    "    N = int((xmax - xmin + 2 * margin) / bandwidth * points_per_band)\n",
    "    N = max(N, 200)   # Make sure it's not too small# Create grid\n",
    "    x = np.linspace(xmin - margin, xmax + margin, N)\n",
    "    p = kde_p(x)\n",
    "    q = kde_q(x)\n",
    "    \n",
    "    # Avoid division by zero\n",
    "    mask = (p > 0) & (q > 0)\n",
    "    \n",
    "    # Approximate KL divergence\n",
    "    kl = simpson(p[mask] * np.log(p[mask] / q[mask]), x[mask])\n",
    "    return kl"
   ]
  },
  {
   "cell_type": "code",
   "execution_count": 44,
   "id": "564b672d-b00b-47f7-a2cd-6198f80edcbf",
   "metadata": {},
   "outputs": [],
   "source": [
    "def cont_kld(samples_p, samples_q):\n",
    "    kde_p = gaussian_kde(samples_p)\n",
    "    kde_q = gaussian_kde(samples_q)\n",
    "    \n",
    "    # Define shared domain\n",
    "    xmin = min(samples_p.min(), samples_q.min())\n",
    "    xmax = max(samples_p.max(), samples_q.max())\n",
    "    margin = (xmax - xmin) * 0.1\n",
    "    \n",
    "    # Get bandwidth estimate from KDE\n",
    "    # Use the average bandwidth for sampling density\n",
    "    std_p = samples_p.std()\n",
    "    std_q = samples_q.std()\n",
    "    bw_p = kde_p.factor * std_p\n",
    "    bw_q = kde_q.factor * std_q\n",
    "    bandwidth = (bw_p + bw_q) / 2\n",
    "    points_per_band = 20\n",
    "    N = int((xmax - xmin + 2 * margin) / bandwidth * points_per_band)\n",
    "    N = max(N, 200)   # Make sure it's not too small# Create grid\n",
    "    x = np.linspace(xmin - margin, xmax + margin, N)\n",
    "    p = kde_p(x)\n",
    "    q = kde_q(x)\n",
    "    \n",
    "    # Avoid division by zero\n",
    "    mask = (p > 0) & (q > 0)\n",
    "    \n",
    "    # Approximate KL divergence\n",
    "    kl = simpson(p[mask] * np.log(p[mask] / q[mask]), x[mask])\n",
    "    print(\"KL(P || Q) =\", kl)\n",
    "    return kl"
   ]
  },
  {
   "cell_type": "code",
   "execution_count": 45,
   "id": "b0db4c7e-a41c-4b79-969a-e08e8f01b8c6",
   "metadata": {},
   "outputs": [
    {
     "name": "stdout",
     "output_type": "stream",
     "text": [
      "KL(P || Q) = 0.3170876375414221\n"
     ]
    },
    {
     "data": {
      "text/plain": [
       "np.float64(0.3170876375414221)"
      ]
     },
     "execution_count": 45,
     "metadata": {},
     "output_type": "execute_result"
    }
   ],
   "source": [
    "samples_p = np.random.normal(0, 1, size=1000)\n",
    "samples_q = np.random.normal(0, 2, size=1000)\n",
    "cont_kld(samples_p, samples_q)"
   ]
  }
 ],
 "metadata": {
  "kernelspec": {
   "display_name": "ponce_env",
   "language": "python",
   "name": "ponce_env"
  },
  "language_info": {
   "codemirror_mode": {
    "name": "ipython",
    "version": 3
   },
   "file_extension": ".py",
   "mimetype": "text/x-python",
   "name": "python",
   "nbconvert_exporter": "python",
   "pygments_lexer": "ipython3",
   "version": "3.12.4"
  }
 },
 "nbformat": 4,
 "nbformat_minor": 5
}
