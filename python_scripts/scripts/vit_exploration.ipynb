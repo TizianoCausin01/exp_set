{
 "cells": [
  {
   "cell_type": "code",
   "execution_count": 9,
   "id": "51980504-a26a-4b26-9155-e3f2e6dc4a8b",
   "metadata": {},
   "outputs": [],
   "source": [
    "import sys\n",
    "from torchvision import models\n",
    "from torchvision.models.feature_extraction import (\n",
    "            create_feature_extractor,\n",
    "                get_graph_node_names,\n",
    "                )\n",
    "sys.path.append(\"/Users/tizianocausin/Desktop/backUp20240609/summer2025/ponce_lab/exp_set/python_scripts/src\")\n",
    "from dim_redu_anns.utils import get_relevant_output_layers, get_layer_out_shape\n"
   ]
  },
  {
   "cell_type": "code",
   "execution_count": 11,
   "id": "59ae1be6-b457-4bb4-afbf-c0e8097fa932",
   "metadata": {},
   "outputs": [
    {
     "name": "stdout",
     "output_type": "stream",
     "text": [
      "['conv_proj', 'encoder.layers.encoder_layer_0.add_1', 'encoder.layers.encoder_layer_2.add_1', 'encoder.layers.encoder_layer_4.add_1', 'encoder.layers.encoder_layer_6.add_1', 'encoder.layers.encoder_layer_8.add_1', 'encoder.layers.encoder_layer_10.add_1', 'encoder.layers.encoder_layer_11.add_1', 'encoder.ln', 'heads.head']\n",
      "torch.Size([768, 14, 14])\n"
     ]
    }
   ],
   "source": [
    "device = \"cpu\"\n",
    "layers = get_relevant_output_layers(\"vit_b_16\")\n",
    "print(layers)\n",
    "model_name = \"vit_b_16\"\n",
    "model_cls = getattr(models, model_name)\n",
    "model = model_cls(pretrained=True).to(device).eval()\n",
    "for l in la\n",
    "feature_extractor = create_feature_extractor(\n",
    "    model, return_nodes=[layers[0]]\n",
    ").to(device)\n",
    "dims = get_layer_out_shape(feature_extractor, layers[0])\n",
    "print(dims)"
   ]
  },
  {
   "cell_type": "code",
   "execution_count": null,
   "id": "61bed530-60c3-40bc-8dfa-2e41fd57a818",
   "metadata": {},
   "outputs": [],
   "source": []
  }
 ],
 "metadata": {
  "kernelspec": {
   "display_name": "ponce_env",
   "language": "python",
   "name": "ponce_env"
  },
  "language_info": {
   "codemirror_mode": {
    "name": "ipython",
    "version": 3
   },
   "file_extension": ".py",
   "mimetype": "text/x-python",
   "name": "python",
   "nbconvert_exporter": "python",
   "pygments_lexer": "ipython3",
   "version": "3.12.4"
  }
 },
 "nbformat": 4,
 "nbformat_minor": 5
}
