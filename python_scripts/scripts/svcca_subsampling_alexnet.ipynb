{
 "cells": [
  {
   "cell_type": "code",
   "execution_count": 166,
   "metadata": {},
   "outputs": [],
   "source": [
    "import os, sys, time\n",
    "from matplotlib import pyplot as plt\n",
    "%matplotlib inline\n",
    "import numpy as np\n",
    "import pickle\n",
    "import pandas\n",
    "import gzip\n",
    "from torchvision import transforms, datasets, models\n",
    "from torch.utils.data import DataLoader\n",
    "import torch\n",
    "sys.path.append(\"/Users/tizianocausin/Desktop/backUp20240609/summer2025/ponce_lab/exp_set/python_scripts/svcca\")\n",
    "import cca_core\n",
    "from sklearn.cross_decomposition import CCA\n",
    "from torchvision.models.feature_extraction import (\n",
    "    create_feature_extractor,\n",
    "    get_graph_node_names,\n",
    ")\n",
    "from datetime import datetime\n",
    "sys.path.append(\"/Users/tizianocausin/Desktop/backUp20240609/summer2025/ponce_lab/exp_set/python_scripts/src\")\n",
    "from dim_redu_anns.utils import get_relevant_output_layers"
   ]
  },
  {
   "cell_type": "code",
   "execution_count": 118,
   "metadata": {},
   "outputs": [],
   "source": [
    "def _plot_helper(arr, xlabel, ylabel):\n",
    "    plt.plot(arr, lw=2.0)\n",
    "    plt.xlabel(xlabel)\n",
    "    plt.ylabel(ylabel)\n",
    "    plt.grid()"
   ]
  },
  {
   "cell_type": "code",
   "execution_count": 119,
   "metadata": {},
   "outputs": [
    {
     "name": "stdout",
     "output_type": "stream",
     "text": [
      "['features.0', 'features.4', 'features.7', 'features.9', 'features.11', 'classifier.2', 'classifier.5']\n"
     ]
    }
   ],
   "source": [
    "print(layer_names)"
   ]
  },
  {
   "cell_type": "code",
   "execution_count": 120,
   "metadata": {},
   "outputs": [],
   "source": [
    "imagenet_path = \"/Users/tizianocausin/Library/CloudStorage/OneDrive-SISSA/data_repo/exp_set_data/imagenet\"\n",
    "imagenet_val_path = os.path.join(imagenet_path, \"val\")\n",
    "batch_size = 10\n",
    "num_workers = 1\n",
    "model_name = \"alexnet\"\n",
    "layer_names = get_relevant_output_layers(model_name)\n",
    "layer_idx = 0\n",
    "target_layer = layer_names[layer_idx]\n",
    "num_stim = 1000"
   ]
  },
  {
   "cell_type": "code",
   "execution_count": 123,
   "metadata": {},
   "outputs": [
    {
     "name": "stderr",
     "output_type": "stream",
     "text": [
      "/Users/tizianocausin/Desktop/virtual_envs/ponce_env/lib/python3.12/site-packages/torchvision/models/_utils.py:208: UserWarning: The parameter 'pretrained' is deprecated since 0.13 and may be removed in the future, please use 'weights' instead.\n",
      "  warnings.warn(\n",
      "/Users/tizianocausin/Desktop/virtual_envs/ponce_env/lib/python3.12/site-packages/torchvision/models/_utils.py:223: UserWarning: Arguments other than a weight enum or `None` for 'weights' are deprecated since 0.13 and may be removed in the future. The current behavior is equivalent to passing `weights=AlexNet_Weights.IMAGENET1K_V1`. You can also use `weights=AlexNet_Weights.DEFAULT` to get the most up-to-date weights.\n",
      "  warnings.warn(msg)\n"
     ]
    }
   ],
   "source": [
    "device = torch.device(\"cuda\" if torch.cuda.is_available() else \"cpu\")\n",
    "transform = transforms.Compose(\n",
    "    [       \n",
    "        transforms.Resize(256),\n",
    "        transforms.CenterCrop(224),\n",
    "        transforms.ToTensor(),\n",
    "        transforms.Normalize(mean=[0.485, 0.456, 0.406], std=[0.229, 0.224, 0.225]),\n",
    "    ]           \n",
    ")\n",
    "loader = DataLoader(\n",
    "    datasets.ImageFolder(imagenet_val_path, transform=transform),\n",
    "    batch_size=batch_size,\n",
    "    num_workers=num_workers,\n",
    "    pin_memory=True,\n",
    "    timeout=100,\n",
    ")  # shuffle=True, took out bc I want my feats aligned\n",
    "\n",
    "model_cls = getattr(models, model_name)\n",
    "model = model_cls(pretrained=True).to(device).eval()\n",
    "\n",
    "feature_extractor = create_feature_extractor(\n",
    "    model, return_nodes=[target_layer]\n",
    ")\n"
   ]
  },
  {
   "cell_type": "code",
   "execution_count": 126,
   "metadata": {},
   "outputs": [],
   "source": [
    "def sample_features(loader, feature_extractor, layer_name, batch_size, num_stim, pooling=\"all\"):\n",
    "    if num_stim == 0:\n",
    "        num_stim = len(loader.dataset)\n",
    "    counter = 0\n",
    "    all_feats = []\n",
    "    for inputs, _ in loader:\n",
    "        counter += 1\n",
    "        if counter*batch_size > num_stim:\n",
    "            break\n",
    "        print(datetime.now().strftime(\"%H:%M:%S\"), f\"starting batch {counter}\")\n",
    "        with torch.no_grad():\n",
    "            inputs = inputs.to(device)\n",
    "            feats = feature_extractor(inputs)[target_layer]\n",
    "            if pooling== \"maxpool\":\n",
    "                if layer_name == 'avgpool' or 'classifier' in layer_name:\n",
    "                    pass # don't do anything, it's already flat\n",
    "                else:\n",
    "                    feats = np.max(feats.cpu().numpy(), axis=(2,3)) # pools the max in the feats\n",
    "            elif pooling== \"avgpool\":\n",
    "                if layer_name == 'avgpool' or 'classifier' in layer_name:\n",
    "                    pass # don't do anything, it's already flat\n",
    "                else:\n",
    "                    feats = np.mean(feats.cpu().numpy(), axis=(2,3)) # pools the max in the feats\n",
    "            elif pooling == \"all\":\n",
    "                feats = feats.view(feats.size(0), -1).cpu().numpy()\n",
    "            all_feats.append(feats)\n",
    "    return all_feats\n"
   ]
  },
  {
   "cell_type": "code",
   "execution_count": 141,
   "metadata": {},
   "outputs": [
    {
     "name": "stderr",
     "output_type": "stream",
     "text": [
      "/Users/tizianocausin/Desktop/virtual_envs/ponce_env/lib/python3.12/site-packages/torch/utils/data/dataloader.py:683: UserWarning: 'pin_memory' argument is set as true but not supported on MPS now, then device pinned memory won't be used.\n",
      "  warnings.warn(warn_msg)\n"
     ]
    },
    {
     "name": "stdout",
     "output_type": "stream",
     "text": [
      "14:33:44 starting batch 1\n",
      "14:33:44 starting batch 2\n",
      "14:33:44 starting batch 3\n",
      "14:33:44 starting batch 4\n",
      "14:33:44 starting batch 5\n",
      "14:33:44 starting batch 6\n",
      "14:33:44 starting batch 7\n",
      "14:33:44 starting batch 8\n",
      "14:33:44 starting batch 9\n",
      "14:33:44 starting batch 10\n",
      "14:33:44 starting batch 11\n",
      "14:33:44 starting batch 12\n",
      "14:33:44 starting batch 13\n",
      "14:33:44 starting batch 14\n",
      "14:33:44 starting batch 15\n",
      "14:33:44 starting batch 16\n",
      "14:33:44 starting batch 17\n",
      "14:33:44 starting batch 18\n",
      "14:33:44 starting batch 19\n",
      "14:33:44 starting batch 20\n",
      "14:33:44 starting batch 21\n",
      "14:33:44 starting batch 22\n",
      "14:33:44 starting batch 23\n",
      "14:33:44 starting batch 24\n",
      "14:33:45 starting batch 25\n",
      "14:33:45 starting batch 26\n",
      "14:33:45 starting batch 27\n",
      "14:33:45 starting batch 28\n",
      "14:33:45 starting batch 29\n",
      "14:33:45 starting batch 30\n",
      "14:33:45 starting batch 31\n",
      "14:33:45 starting batch 32\n",
      "14:33:45 starting batch 33\n",
      "14:33:45 starting batch 34\n",
      "14:33:45 starting batch 35\n",
      "14:33:45 starting batch 36\n",
      "14:33:45 starting batch 37\n",
      "14:33:45 starting batch 38\n",
      "14:33:45 starting batch 39\n",
      "14:33:45 starting batch 40\n",
      "14:33:45 starting batch 41\n",
      "14:33:45 starting batch 42\n",
      "14:33:45 starting batch 43\n",
      "14:33:45 starting batch 44\n",
      "14:33:45 starting batch 45\n",
      "14:33:45 starting batch 46\n",
      "14:33:45 starting batch 47\n",
      "14:33:45 starting batch 48\n",
      "14:33:45 starting batch 49\n",
      "14:33:45 starting batch 50\n",
      "14:33:45 starting batch 51\n",
      "14:33:45 starting batch 52\n",
      "14:33:46 starting batch 53\n",
      "14:33:46 starting batch 54\n",
      "14:33:46 starting batch 55\n",
      "14:33:46 starting batch 56\n",
      "14:33:46 starting batch 57\n",
      "14:33:46 starting batch 58\n",
      "14:33:46 starting batch 59\n",
      "14:33:46 starting batch 60\n",
      "14:33:46 starting batch 61\n",
      "14:33:46 starting batch 62\n",
      "14:33:46 starting batch 63\n",
      "14:33:46 starting batch 64\n",
      "14:33:46 starting batch 65\n",
      "14:33:46 starting batch 66\n",
      "14:33:46 starting batch 67\n",
      "14:33:46 starting batch 68\n",
      "14:33:46 starting batch 69\n",
      "14:33:46 starting batch 70\n",
      "14:33:46 starting batch 71\n",
      "14:33:46 starting batch 72\n",
      "14:33:46 starting batch 73\n",
      "14:33:46 starting batch 74\n",
      "14:33:46 starting batch 75\n",
      "14:33:46 starting batch 76\n",
      "14:33:46 starting batch 77\n",
      "14:33:46 starting batch 78\n",
      "14:33:46 starting batch 79\n",
      "14:33:46 starting batch 80\n",
      "14:33:46 starting batch 81\n",
      "14:33:47 starting batch 82\n",
      "14:33:47 starting batch 83\n",
      "14:33:47 starting batch 84\n",
      "14:33:47 starting batch 85\n",
      "14:33:47 starting batch 86\n",
      "14:33:47 starting batch 87\n",
      "14:33:47 starting batch 88\n",
      "14:33:47 starting batch 89\n",
      "14:33:47 starting batch 90\n",
      "14:33:47 starting batch 91\n",
      "14:33:47 starting batch 92\n",
      "14:33:47 starting batch 93\n",
      "14:33:47 starting batch 94\n",
      "14:33:47 starting batch 95\n",
      "14:33:47 starting batch 96\n",
      "14:33:47 starting batch 97\n",
      "14:33:47 starting batch 98\n",
      "14:33:47 starting batch 99\n",
      "14:33:47 starting batch 100\n",
      "14:33:47 starting batch 101\n",
      "14:33:47 starting batch 102\n",
      "14:33:47 starting batch 103\n",
      "14:33:47 starting batch 104\n",
      "14:33:47 starting batch 105\n",
      "14:33:47 starting batch 106\n",
      "14:33:47 starting batch 107\n",
      "14:33:47 starting batch 108\n",
      "14:33:47 starting batch 109\n",
      "14:33:48 starting batch 110\n",
      "14:33:48 starting batch 111\n",
      "14:33:48 starting batch 112\n",
      "14:33:48 starting batch 113\n",
      "14:33:48 starting batch 114\n",
      "14:33:48 starting batch 115\n",
      "14:33:48 starting batch 116\n",
      "14:33:48 starting batch 117\n",
      "14:33:48 starting batch 118\n",
      "14:33:48 starting batch 119\n",
      "14:33:48 starting batch 120\n",
      "14:33:48 starting batch 121\n",
      "14:33:48 starting batch 122\n",
      "14:33:48 starting batch 123\n",
      "14:33:48 starting batch 124\n",
      "14:33:48 starting batch 125\n",
      "14:33:48 starting batch 126\n",
      "14:33:48 starting batch 127\n",
      "14:33:48 starting batch 128\n",
      "14:33:48 starting batch 129\n",
      "14:33:48 starting batch 130\n",
      "14:33:48 starting batch 131\n",
      "14:33:48 starting batch 132\n",
      "14:33:48 starting batch 133\n",
      "14:33:48 starting batch 134\n",
      "14:33:49 starting batch 135\n",
      "14:33:49 starting batch 136\n",
      "14:33:49 starting batch 137\n",
      "14:33:49 starting batch 138\n",
      "14:33:49 starting batch 139\n",
      "14:33:49 starting batch 140\n",
      "14:33:49 starting batch 141\n",
      "14:33:49 starting batch 142\n",
      "14:33:49 starting batch 143\n",
      "14:33:49 starting batch 144\n",
      "14:33:49 starting batch 145\n",
      "14:33:49 starting batch 146\n",
      "14:33:49 starting batch 147\n",
      "14:33:49 starting batch 148\n",
      "14:33:49 starting batch 149\n",
      "14:33:49 starting batch 150\n",
      "14:33:49 starting batch 151\n",
      "14:33:49 starting batch 152\n",
      "14:33:49 starting batch 153\n",
      "14:33:49 starting batch 154\n",
      "14:33:49 starting batch 155\n",
      "14:33:49 starting batch 156\n",
      "14:33:49 starting batch 157\n",
      "14:33:49 starting batch 158\n",
      "14:33:49 starting batch 159\n",
      "14:33:50 starting batch 160\n",
      "14:33:50 starting batch 161\n",
      "14:33:50 starting batch 162\n",
      "14:33:50 starting batch 163\n",
      "14:33:50 starting batch 164\n",
      "14:33:50 starting batch 165\n",
      "14:33:50 starting batch 166\n",
      "14:33:50 starting batch 167\n",
      "14:33:50 starting batch 168\n",
      "14:33:50 starting batch 169\n",
      "14:33:50 starting batch 170\n",
      "14:33:50 starting batch 171\n",
      "14:33:50 starting batch 172\n",
      "14:33:50 starting batch 173\n",
      "14:33:50 starting batch 174\n",
      "14:33:50 starting batch 175\n",
      "14:33:50 starting batch 176\n",
      "14:33:50 starting batch 177\n",
      "14:33:50 starting batch 178\n",
      "14:33:50 starting batch 179\n",
      "14:33:50 starting batch 180\n",
      "14:33:50 starting batch 181\n",
      "14:33:50 starting batch 182\n",
      "14:33:50 starting batch 183\n",
      "14:33:50 starting batch 184\n",
      "14:33:51 starting batch 185\n",
      "14:33:51 starting batch 186\n",
      "14:33:51 starting batch 187\n",
      "14:33:51 starting batch 188\n",
      "14:33:51 starting batch 189\n",
      "14:33:51 starting batch 190\n",
      "14:33:56 starting batch 191\n",
      "14:34:00 starting batch 192\n",
      "14:34:06 starting batch 193\n",
      "14:34:12 starting batch 194\n",
      "14:34:17 starting batch 195\n",
      "14:34:22 starting batch 196\n",
      "14:34:28 starting batch 197\n",
      "14:34:33 starting batch 198\n",
      "14:34:39 starting batch 199\n",
      "14:34:45 starting batch 200\n"
     ]
    }
   ],
   "source": [
    "feature_extractor2 = create_feature_extractor(\n",
    "    model, return_nodes=[target_layer]\n",
    ")\n",
    "all_feats = sample_features(loader, feature_extractor2, target_layer, batch_size, 2000, \"avgpool\")"
   ]
  },
  {
   "cell_type": "code",
   "execution_count": 142,
   "metadata": {},
   "outputs": [],
   "source": [
    "all_acts = np.concatenate(all_feats, axis=0)"
   ]
  },
  {
   "cell_type": "code",
   "execution_count": 130,
   "metadata": {},
   "outputs": [
    {
     "name": "stdout",
     "output_type": "stream",
     "text": [
      "(1000, 64)\n"
     ]
    }
   ],
   "source": [
    "print(all_acts.shape)"
   ]
  },
  {
   "cell_type": "code",
   "execution_count": 143,
   "metadata": {},
   "outputs": [
    {
     "name": "stdout",
     "output_type": "stream",
     "text": [
      "adding eps to diagonal and taking inverse\n",
      "taking square root\n",
      "dot products...\n",
      "trying to take final svd\n",
      "computed everything!\n"
     ]
    }
   ],
   "source": [
    "# Toy Example of CCA in action\n",
    "\n",
    "# assume X_fake has 100 neurons and we have their activations on 1000 datapoints\n",
    "#A_fake = np.random.randn(100, 2000)\n",
    "A_fake = all_acts[:,:20].T\n",
    "# Y_fake has 50 neurons with activations on the same 1000 datapoints\n",
    "# Note X and Y do *not* have to have the same number of neurons\n",
    "#B_fake = np.random.randn(50, 2000)\n",
    "B_fake =all_acts[:,20:50].T\n",
    "# computing CCA simliarty between X_fake, Y_fake\n",
    "# We expect similarity should be very low, because the fake activations are not correlated\n",
    "results = cca_core.get_cca_similarity(A_fake, B_fake, verbose=True)\n"
   ]
  },
  {
   "cell_type": "code",
   "execution_count": 144,
   "metadata": {},
   "outputs": [
    {
     "data": {
      "image/png": "[encoded data removed]",
      "text/plain": [
       "<Figure size 640x480 with 1 Axes>"
      ]
     },
     "metadata": {},
     "output_type": "display_data"
    }
   ],
   "source": [
    "# correlation coefficients\n",
    "_plot_helper(results[\"cca_coef1\"], \"CCA coef idx\", \"CCA coef value\")"
   ]
  },
  {
   "cell_type": "code",
   "execution_count": 145,
   "metadata": {},
   "outputs": [
    {
     "name": "stdout",
     "output_type": "stream",
     "text": [
      "Single number for summarizing similarity\n",
      "0.9136\n"
     ]
    }
   ],
   "source": [
    "print(\"Single number for summarizing similarity\")\n",
    "print('{:.4f}'.format(np.mean(results[\"cca_coef1\"])))"
   ]
  },
  {
   "cell_type": "markdown",
   "metadata": {},
   "source": [
    "This is a simple baseline we can compare other results to. As an example, let's see what the similarity looks like when we compare A to a scaled invertible transform of A. CCA is invariant to these, so we expect to see perfect CCA correlation."
   ]
  },
  {
   "cell_type": "code",
   "execution_count": 146,
   "metadata": {},
   "outputs": [
    {
     "name": "stdout",
     "output_type": "stream",
     "text": [
      "adding eps to diagonal and taking inverse\n",
      "taking square root\n",
      "dot products...\n",
      "trying to take final svd\n",
      "computed everything!\n"
     ]
    }
   ],
   "source": [
    "At_fake = np.dot(np.random.randn(A_fake.shape[0], A_fake.shape[0]), A_fake)\n",
    "\n",
    "results_t = cca_core.get_cca_similarity(A_fake, At_fake)"
   ]
  },
  {
   "cell_type": "code",
   "execution_count": 147,
   "metadata": {},
   "outputs": [
    {
     "name": "stdout",
     "output_type": "stream",
     "text": [
      "Single number for summarizing similarity\n",
      "1.0000\n"
     ]
    },
    {
     "data": {
      "image/png": "[encoded data removed]",
      "text/plain": [
       "<Figure size 640x480 with 1 Axes>"
      ]
     },
     "metadata": {},
     "output_type": "display_data"
    }
   ],
   "source": [
    "plt.plot(results_t[\"cca_coef1\"])\n",
    "plt.ylim((0,1.1))\n",
    "print(\"Single number for summarizing similarity\")\n",
    "print('{:.4f}'.format(np.mean(results_t[\"cca_coef1\"])))"
   ]
  },
  {
   "cell_type": "code",
   "execution_count": 148,
   "metadata": {},
   "outputs": [
    {
     "data": {
      "text/plain": [
       "(20, 2000)"
      ]
     },
     "execution_count": 148,
     "metadata": {},
     "output_type": "execute_result"
    }
   ],
   "source": [
    "A_fake.shape"
   ]
  },
  {
   "cell_type": "code",
   "execution_count": 162,
   "metadata": {},
   "outputs": [
    {
     "name": "stderr",
     "output_type": "stream",
     "text": [
      "/Users/tizianocausin/Desktop/virtual_envs/ponce_env/lib/python3.12/site-packages/sklearn/cross_decomposition/_pls.py:104: ConvergenceWarning: Maximum number of iterations reached\n",
      "  warnings.warn(\"Maximum number of iterations reached\", ConvergenceWarning)\n"
     ]
    },
    {
     "name": "stdout",
     "output_type": "stream",
     "text": [
      "(2000, 20)\n",
      "[0.99927344 0.99923326 0.99859957 0.99885055 0.9987418  0.99617797\n",
      " 0.99953891 0.9998956  0.99073372 0.99996214 0.98152024 0.97174997\n",
      " 0.95241488 0.99999958 0.9262869  0.88420022 0.8645814  0.64412953\n",
      " 0.60899142 0.45655179] 0.9135716440018401\n"
     ]
    }
   ],
   "source": [
    "\n",
    "cca = CCA(n_components = 20)\n",
    "d1, d2 = cca.fit_transform(A_fake.T, B_fake.T)\n",
    "print(d1.shape)\n",
    "coefs_CCA = np.array([\n",
    "    np.corrcoef(d1[:, i], d2[:, i])[0, 1] for i in range(d1.shape[1])\n",
    "])\n",
    "print(coefs_CCA, np.mean(coefs_CCA))\n",
    "\n",
    "#print(np.corrcoef(d1.T,d2.T)[0:d1.shape[1], d1.shape[1]:]) # [:tot_dims, :tot_dims]"
   ]
  },
  {
   "cell_type": "code",
   "execution_count": 173,
   "metadata": {},
   "outputs": [],
   "source": [
    "import warnings\n",
    "from sklearn.exceptions import ConvergenceWarning\n",
    "warnings.filterwarnings(\"ignore\", category=ConvergenceWarning)\n",
    "\n",
    "sresults = []\n",
    "skresults = []\n",
    "#num_datapoints = [101, 200, 500, 1000, 2000, 5000, 10000]\n",
    "num_datapoints = [101,150, 200, 250, 300, 400, 500, 1000,1250, 1500, 1750, 2000]#, 2250, 2500, 3000, 4000, 5000]\n",
    "gtime = []\n",
    "sktime = []\n",
    "eps = 10e-6\n",
    "for nd in num_datapoints:\n",
    "    #A_fake = np.random.randn(100, nd)\n",
    "    #B_fake = np.random.randn(100, nd)\n",
    "    Atest_fake = A_fake[:, :nd]\n",
    "    Btest_fake = B_fake[:, :nd]\n",
    "    #Atest_fake += eps * np.random.randn(*Atest_fake.shape)\n",
    "    #Btest_fake += eps * np.random.randn(*Btest_fake.shape)\n",
    "    start = time.time()\n",
    "    results = cca_core.get_cca_similarity(Atest_fake, Btest_fake, verbose=False)\n",
    "    end = time.time()\n",
    "    gtime.append(end-start)\n",
    "    #print(f\"google {nd} samples - elapsed time: {end - start:.4f} seconds\")\n",
    "    sresults.append(np.mean(results[\"cca_coef1\"]))\n",
    "    start = time.time()\n",
    "    d1, d2 = cca.fit_transform(Atest_fake.T, Btest_fake.T)\n",
    "    end = time.time()\n",
    "    sktime.append(end-start)\n",
    "    #print(f\"sklearn {nd} samples - elapsed time: {end - start:.4f} seconds\")\n",
    "    coefs_CCA = np.array([\n",
    "    np.corrcoef(d1[:, i], d2[:, i])[0, 1] for i in range(d1.shape[1])\n",
    "    ])\n",
    "    skresults.append(np.mean(coefs_CCA))\n",
    "    \n",
    "#plt.plot(num_datapoints, sresults, lw=2.0)\n",
    "#plt.plot(num_datapoints, gtime, lw=2.0)\n",
    "#plt.grid()\n",
    "#plt.title(\"google implementation\")\n",
    "#plt.xlabel(\"Num Datapoints\")\n",
    "#plt.ylabel(\"Mean CCA Correlation Coefficient\")\n",
    "#plt.figure()\n",
    "#plt.plot(num_datapoints, skresults, lw=2.0)\n",
    "#plt.plot(num_datapoints, sktime, lw=2.0)\n",
    "\n",
    "#plt.grid()\n",
    "#plt.title(\"sklearn implementation\")\n",
    "#plt.xlabel(\"Num Datapoints\")\n",
    "#plt.ylabel(\"Mean CCA Correlation Coefficient\")\n",
    "    "
   ]
  },
  {
   "cell_type": "code",
   "execution_count": 178,
   "metadata": {},
   "outputs": [
    {
     "name": "stdout",
     "output_type": "stream",
     "text": [
      "(20, 2000)\n"
     ]
    }
   ],
   "source": [
    "\n",
    "\n",
    "results = cca_core.get_cca_similarity(A_fake, B_fake, epsilon=1e-10, verbose=False)\n",
    "print(A_fake.shape)    "
   ]
  },
  {
   "cell_type": "code",
   "execution_count": 176,
   "metadata": {},
   "outputs": [
    {
     "name": "stdout",
     "output_type": "stream",
     "text": [
      "Mean CCA similarity 0.9135614810703266\n"
     ]
    },
    {
     "data": {
      "image/png": "[encoded data removed]",
      "text/plain": [
       "<Figure size 640x480 with 1 Axes>"
      ]
     },
     "metadata": {},
     "output_type": "display_data"
    }
   ],
   "source": [
    "_plot_helper(results[\"cca_coef1\"], \"CCA Coef idx\", \"CCA Coef value\")\n",
    "print(\"Mean CCA similarity\", np.mean(results[\"cca_coef1\"]))"
   ]
  },
  {
   "cell_type": "markdown",
   "metadata": {},
   "source": [
    "Just taking a mean similarity and looking at the plot seems to suggest that these two representations aren't that similar. But we have to be more careful here. Let's try doing an SVD over one of the set of activations to see how many large variance directions there are:"
   ]
  },
  {
   "cell_type": "code",
   "execution_count": 181,
   "metadata": {},
   "outputs": [
    {
     "name": "stdout",
     "output_type": "stream",
     "text": [
      "Fraction of variance explained by 20 singular vectors 1.0\n"
     ]
    },
    {
     "data": {
      "image/png": "[encoded data removed]",
      "text/plain": [
       "<Figure size 640x480 with 1 Axes>"
      ]
     },
     "metadata": {},
     "output_type": "display_data"
    }
   ],
   "source": [
    "_, s, v = np.linalg.svd(A_fake - np.mean(A_fake, axis=1, keepdims=True), full_matrices=False)\n",
    "_plot_helper(s, \"singular value idx\", \"singular value\")\n",
    "#plt.plot([20]*100, np.linspace(0, 2700, 100), linestyle=\"--\")\n",
    "print(\"Fraction of variance explained by 20 singular vectors\", np.sum(s[:20])/np.sum(s))"
   ]
  },
  {
   "cell_type": "code",
   "execution_count": 182,
   "metadata": {},
   "outputs": [],
   "source": [
    "# creating a random baseline\n",
    "b1 = np.random.randn(*A_fake.shape)\n",
    "b2 = np.random.randn(*B_fake.shape)"
   ]
  },
  {
   "cell_type": "code",
   "execution_count": 183,
   "metadata": {},
   "outputs": [
    {
     "name": "stdout",
     "output_type": "stream",
     "text": [
      "Baseline Mean CCA similarity 0.11134270880036927\n",
      "MNIST Mean CCA similarity 0.9135614810703266\n"
     ]
    },
    {
     "data": {
      "image/png": "[encoded data removed]",
      "text/plain": [
       "<Figure size 640x480 with 1 Axes>"
      ]
     },
     "metadata": {},
     "output_type": "display_data"
    }
   ],
   "source": [
    "baseline = cca_core.get_cca_similarity(b1, b2, epsilon=1e-10, verbose=False)\n",
    "_plot_helper(baseline[\"cca_coef1\"], \"CCA coef idx\", \"CCA coef value\")\n",
    "print(\"Baseline Mean CCA similarity\", np.mean(baseline[\"cca_coef1\"]))\n",
    "print(\"MNIST Mean CCA similarity\", np.mean(results[\"cca_coef1\"]))"
   ]
  },
  {
   "cell_type": "markdown",
   "metadata": {},
   "source": [
    "There's a clear difference between the baseline mean CCA similarity and the MNIST mean CCA similarity, but let's see if we can separate things further.\n",
    "\n",
    "##### 1. Averaging Top CCA Values"
   ]
  },
  {
   "cell_type": "code",
   "execution_count": 184,
   "metadata": {},
   "outputs": [
    {
     "name": "stdout",
     "output_type": "stream",
     "text": [
      "Results when averaging top CCA values\n",
      "Baseline 0.11134270880036927 and MNIST 0.9135614810703266\n"
     ]
    }
   ],
   "source": [
    "# comparing different results\n",
    "print(\"Results when averaging top CCA values\")\n",
    "print(\"Baseline\", np.mean(baseline[\"cca_coef1\"][:20]), \"and MNIST\", np.mean(results[\"cca_coef1\"][:20]))"
   ]
  },
  {
   "cell_type": "markdown",
   "metadata": {},
   "source": [
    "##### 2. Using SVCCA"
   ]
  },
  {
   "cell_type": "code",
   "execution_count": 187,
   "metadata": {},
   "outputs": [
    {
     "name": "stdout",
     "output_type": "stream",
     "text": [
      "Results using SVCCA keeping 20 dims\n",
      "Baseline 0.08466827031647804 and MNIST 0.8407138878428929\n"
     ]
    },
    {
     "data": {
      "image/png": "[encoded data removed]",
      "text/plain": [
       "<Figure size 640x480 with 1 Axes>"
      ]
     },
     "metadata": {},
     "output_type": "display_data"
    }
   ],
   "source": [
    "print(\"Results using SVCCA keeping 20 dims\")\n",
    "\n",
    "# Mean subtract activations\n",
    "cacts1 = A_fake - np.mean(A_fake, axis=1, keepdims=True)\n",
    "cacts2 = B_fake - np.mean(B_fake, axis=1, keepdims=True)\n",
    "\n",
    "# Perform SVD\n",
    "U1, s1, V1 = np.linalg.svd(cacts1, full_matrices=False)\n",
    "U2, s2, V2 = np.linalg.svd(cacts2, full_matrices=False)\n",
    "\n",
    "svacts1 = np.dot(s1[:20]*np.eye(20), V1[:20])\n",
    "# can also compute as svacts1 = np.dot(U1.T[:20], cacts1)\n",
    "svacts2 = np.dot(s2[:20]*np.eye(20), V2[:20])\n",
    "# can also compute as svacts1 = np.dot(U2.T[:20], cacts2)\n",
    "\n",
    "svcca_results = cca_core.get_cca_similarity(svacts1, svacts2, epsilon=1e-10, verbose=False)\n",
    "\n",
    "# Mean subtract baseline activations\n",
    "cb1 = b1 - np.mean(b1, axis=0, keepdims=True)\n",
    "cb2 = b2 - np.mean(b2, axis=0, keepdims=True)\n",
    "\n",
    "# Perform SVD\n",
    "Ub1, sb1, Vb1 = np.linalg.svd(cb1, full_matrices=False)\n",
    "Ub2, sb2, Vb2 = np.linalg.svd(cb2, full_matrices=False)\n",
    "\n",
    "svb1 = np.dot(sb1[:20]*np.eye(20), Vb1[:20])\n",
    "svb2 = np.dot(sb2[:20]*np.eye(20), Vb2[:20])\n",
    "\n",
    "svcca_baseline = cca_core.get_cca_similarity(svb1, svb2, epsilon=1e-10, verbose=False)\n",
    "print(\"Baseline\", np.mean(svcca_baseline[\"cca_coef1\"]), \"and MNIST\", np.mean(svcca_results[\"cca_coef1\"]))\n",
    "\n",
    "plt.plot(svcca_baseline[\"cca_coef1\"], lw=2.0, label=\"baseline\")\n",
    "plt.plot(svcca_results[\"cca_coef1\"], lw=2.0, label=\"MNIST\")\n",
    "plt.xlabel(\"Sorted CCA Correlation Coeff Idx\")\n",
    "plt.ylabel(\"CCA Correlation Coefficient Value\")\n",
    "plt.legend(loc=\"best\")\n",
    "plt.grid()\n"
   ]
  },
  {
   "cell_type": "markdown",
   "metadata": {},
   "source": [
    "##### 3. Using PWCCA"
   ]
  },
  {
   "cell_type": "code",
   "execution_count": 189,
   "metadata": {},
   "outputs": [
    {
     "name": "stdout",
     "output_type": "stream",
     "text": [
      "Results using PWCCA\n",
      "Baseline 0.11220305795257995 and MNIST 0.9966831441985249\n"
     ]
    }
   ],
   "source": [
    "import pwcca\n",
    "pwcca_mean, w, _ = pwcca.compute_pwcca(A_fake, B_fake, epsilon=1e-10)\n",
    "pwcca_baseline, wb, _ = pwcca.compute_pwcca(b1, b2, epsilon=1e-10)\n",
    "print(\"Results using PWCCA\")\n",
    "print(\"Baseline\", pwcca_baseline, \"and MNIST\", pwcca_mean)"
   ]
  }
 ],
 "metadata": {
  "kernelspec": {
   "display_name": "Python 3 (ipykernel)",
   "language": "python",
   "name": "python3"
  },
  "language_info": {
   "codemirror_mode": {
    "name": "ipython",
    "version": 3
   },
   "file_extension": ".py",
   "mimetype": "text/x-python",
   "name": "python",
   "nbconvert_exporter": "python",
   "pygments_lexer": "ipython3",
   "version": "3.12.4"
  },
  "toc": {
   "base_numbering": 1,
   "nav_menu": {},
   "number_sections": false,
   "sideBar": true,
   "skip_h1_title": false,
   "title_cell": "Table of Contents",
   "title_sidebar": "Contents",
   "toc_cell": true,
   "toc_position": {},
   "toc_section_display": true,
   "toc_window_display": true
  }
 },
 "nbformat": 4,
 "nbformat_minor": 4
}
