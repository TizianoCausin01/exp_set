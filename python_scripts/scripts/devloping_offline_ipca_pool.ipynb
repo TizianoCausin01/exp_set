{
 "cells": [
  {
   "cell_type": "code",
   "execution_count": 1,
   "id": "b6c290b4-662b-4418-86b1-df4ff5177602",
   "metadata": {},
   "outputs": [],
   "source": [
    "import os, yaml, sys\n",
    "ENV = os.getenv(\"MY_ENV\", \"dev\")\n",
    "with open(\"../../config.yaml\", \"r\") as f:\n",
    "    config = yaml.safe_load(f)\n",
    "paths = config[ENV][\"paths\"]\n",
    "sys.path.append(paths[\"src_path\"])\n",
    "from datetime import datetime\n",
    "from dim_redu_anns.incremental_pca import offline_ipca_pool\n"
   ]
  },
  {
   "cell_type": "code",
   "execution_count": 2,
   "id": "c5f37af8-1bf4-4c42-9184-b279154745f0",
   "metadata": {},
   "outputs": [
    {
     "name": "stdout",
     "output_type": "stream",
     "text": [
      "12:18:59 PCA model already exists for features.0 in /Users/tizianocausin/Library/CloudStorage/OneDrive-SISSA/data_repo/exp_set_res/silico/imagenet_val_alexnet_features.0_maxpool_pca_model_1000_PCs.pkl\n",
      "12:18:59 PCA model already exists for features.4 in /Users/tizianocausin/Library/CloudStorage/OneDrive-SISSA/data_repo/exp_set_res/silico/imagenet_val_alexnet_features.4_maxpool_pca_model_1000_PCs.pkl\n",
      "12:18:59 PCA model already exists for features.7 in /Users/tizianocausin/Library/CloudStorage/OneDrive-SISSA/data_repo/exp_set_res/silico/imagenet_val_alexnet_features.7_maxpool_pca_model_1000_PCs.pkl\n",
      "12:18:59 PCA model already exists for features.9 in /Users/tizianocausin/Library/CloudStorage/OneDrive-SISSA/data_repo/exp_set_res/silico/imagenet_val_alexnet_features.9_maxpool_pca_model_1000_PCs.pkl\n",
      "12:18:59 PCA model already exists for features.11 in /Users/tizianocausin/Library/CloudStorage/OneDrive-SISSA/data_repo/exp_set_res/silico/imagenet_val_alexnet_features.11_maxpool_pca_model_1000_PCs.pkl\n",
      "12:18:59 PCA model already exists for classifier.2 in /Users/tizianocausin/Library/CloudStorage/OneDrive-SISSA/data_repo/exp_set_res/silico/imagenet_val_alexnet_classifier.2_maxpool_pca_model_1000_PCs.pkl\n",
      "12:18:59 PCA model already exists for classifier.5 in /Users/tizianocausin/Library/CloudStorage/OneDrive-SISSA/data_repo/exp_set_res/silico/imagenet_val_alexnet_classifier.5_maxpool_pca_model_1000_PCs.pkl\n"
     ]
    }
   ],
   "source": [
    "offline_ipca_pool(model_name=\"alexnet\", pooling=\"maxpool\", n_components=1000, batch_size=512, results_path=paths[\"results_path\"])\n"
   ]
  }
 ],
 "metadata": {
  "kernelspec": {
   "display_name": "ponce_env",
   "language": "python",
   "name": "ponce_env"
  },
  "language_info": {
   "codemirror_mode": {
    "name": "ipython",
    "version": 3
   },
   "file_extension": ".py",
   "mimetype": "text/x-python",
   "name": "python",
   "nbconvert_exporter": "python",
   "pygments_lexer": "ipython3",
   "version": "3.12.4"
  }
 },
 "nbformat": 4,
 "nbformat_minor": 5
}
