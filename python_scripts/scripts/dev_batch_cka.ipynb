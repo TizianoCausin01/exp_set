{
 "cells": [
  {
   "cell_type": "code",
   "execution_count": 2,
   "id": "38ea1a08-a064-4846-be36-4e823c02a78b",
   "metadata": {},
   "outputs": [],
   "source": [
    "import numpy as np\n",
    "import os, yaml, sys\n",
    "ENV = os.getenv(\"MY_ENV\", \"dev\")\n",
    "with open(\"../../config.yaml\", \"r\") as f:\n",
    "    config = yaml.safe_load(f)\n",
    "paths = config[ENV][\"paths\"]\n",
    "sys.path.append(paths[\"src_path\"])\n",
    "from alignment.CKA import cka, cka_minibatch, cka_batch_collection\n",
    "from sklearn.metrics.pairwise import pairwise_kernels\n",
    "from alignment.utils import get_usual_transform\n",
    "from sampling.sampling_methods import random_sets\n",
    "from parallel.parallel_funcs import print_wise, batch_cka_core\n",
    "import torch\n",
    "from torch.utils.data import DataLoader, Subset\n",
    "import torch.nn.functional as F\n",
    "from torchvision import datasets, models\n",
    "from torch.utils.data import Sampler\n",
    "from torchvision.models.feature_extraction import (\n",
    "    create_feature_extractor,\n",
    "    get_graph_node_names,\n",
    ")\n",
    "device = torch.device(\"cuda\" if torch.cuda.is_available() else \"cpu\")"
   ]
  },
  {
   "cell_type": "code",
   "execution_count": 3,
   "id": "de940d71-81b8-4335-9d22-69069cdb4e93",
   "metadata": {},
   "outputs": [],
   "source": [
    "n_batches = 20\n",
    "batch_size = 10"
   ]
  },
  {
   "cell_type": "code",
   "execution_count": 4,
   "id": "466e4818-3a8a-4da9-89f7-2568c0bcd977",
   "metadata": {},
   "outputs": [],
   "source": [
    "imagenet_val_path = f\"{paths['data_path']}/imagenet/val\"\n",
    "transform = get_usual_transform()\n",
    "    loader = DataLoader(\n",
    "        datasets.ImageFolder(imagenet_val_path, transform=transform),\n",
    "        batch_size=batch_size,\n",
    "        num_workers=1,\n",
    "        shuffle=True,\n",
    "        pin_memory=True,\n",
    "        timeout=500,\n",
    "    )"
   ]
  },
  {
   "cell_type": "code",
   "execution_count": 5,
   "id": "03a6a5e7-71e7-4d41-885e-c35ed8d4354b",
   "metadata": {},
   "outputs": [],
   "source": [
    "model_names = [\"alexnet\", \"vit_b_16\"]\n",
    "layer_names = [\"classifier.5\", \"encoder.ln\"]"
   ]
  },
  {
   "cell_type": "code",
   "execution_count": 6,
   "id": "95bf3d4a-6fa5-42b8-803e-b123800eeef6",
   "metadata": {},
   "outputs": [
    {
     "name": "stderr",
     "output_type": "stream",
     "text": [
      "/Users/tizianocausin/Desktop/virtual_envs/ponce_env/lib/python3.12/site-packages/torchvision/models/_utils.py:208: UserWarning: The parameter 'pretrained' is deprecated since 0.13 and may be removed in the future, please use 'weights' instead.\n",
      "  warnings.warn(\n",
      "/Users/tizianocausin/Desktop/virtual_envs/ponce_env/lib/python3.12/site-packages/torchvision/models/_utils.py:223: UserWarning: Arguments other than a weight enum or `None` for 'weights' are deprecated since 0.13 and may be removed in the future. The current behavior is equivalent to passing `weights=AlexNet_Weights.IMAGENET1K_V1`. You can also use `weights=AlexNet_Weights.DEFAULT` to get the most up-to-date weights.\n",
      "  warnings.warn(msg)\n",
      "/Users/tizianocausin/Desktop/virtual_envs/ponce_env/lib/python3.12/site-packages/torchvision/models/_utils.py:223: UserWarning: Arguments other than a weight enum or `None` for 'weights' are deprecated since 0.13 and may be removed in the future. The current behavior is equivalent to passing `weights=ViT_B_16_Weights.IMAGENET1K_V1`. You can also use `weights=ViT_B_16_Weights.DEFAULT` to get the most up-to-date weights.\n",
      "  warnings.warn(msg)\n"
     ]
    }
   ],
   "source": [
    "\n",
    "model_cls1 = getattr(models, model_names[0])\n",
    "model1 = model_cls1(pretrained=True).to(device).eval()\n",
    "model_cls2 = getattr(models, model_names[1])\n",
    "model2 = model_cls2(pretrained=True).to(device).eval()"
   ]
  },
  {
   "cell_type": "code",
   "execution_count": 7,
   "id": "5373f7ca-5ca4-45b8-b5ba-505f48c614e1",
   "metadata": {},
   "outputs": [
    {
     "name": "stderr",
     "output_type": "stream",
     "text": [
      "/Users/tizianocausin/Desktop/virtual_envs/ponce_env/lib/python3.12/site-packages/torch/utils/data/dataloader.py:683: UserWarning: 'pin_memory' argument is set as true but not supported on MPS now, then device pinned memory won't be used.\n",
      "  warnings.warn(warn_msg)\n"
     ]
    },
    {
     "name": "stdout",
     "output_type": "stream",
     "text": [
      "15:37:28 - rank 1 running batch 1\n",
      "15:37:32 - rank 1 running batch 2\n",
      "15:37:36 - rank 1 running batch 3\n",
      "15:37:40 - rank 1 running batch 4\n",
      "15:37:43 - rank 1 running batch 5\n",
      "15:37:46 - rank 1 running batch 6\n",
      "15:37:49 - rank 1 running batch 7\n",
      "15:37:53 - rank 1 running batch 8\n",
      "15:37:57 - rank 1 running batch 9\n",
      "15:38:00 - rank 1 running batch 10\n",
      "15:38:04 - rank 1 running batch 11\n",
      "15:38:07 - rank 1 running batch 12\n",
      "15:38:11 - rank 1 running batch 13\n",
      "15:38:14 - rank 1 running batch 14\n",
      "15:38:18 - rank 1 running batch 15\n",
      "15:38:22 - rank 1 running batch 16\n",
      "15:38:25 - rank 1 running batch 17\n",
      "15:38:29 - rank 1 running batch 18\n",
      "15:38:33 - rank 1 running batch 19\n",
      "15:38:37 - rank 1 running batch 20\n",
      "15:38:46 - rank 1 batch cka : 0.39735320104093363\n"
     ]
    }
   ],
   "source": [
    "a = batch_cka_core(1, layer_names, model_names, model1, model2, loader, n_batches, \"gram\", device, paths)"
   ]
  },
  {
   "cell_type": "code",
   "execution_count": 3,
   "id": "7bc42c44-94a0-4b5d-85a0-853f4c1517fc",
   "metadata": {},
   "outputs": [
    {
     "name": "stdout",
     "output_type": "stream",
     "text": [
      "Estimated minibatch CKA: 0.8620530945189993\n"
     ]
    }
   ],
   "source": [
    "cka_scores = []\n",
    "prev_idx = 0\n",
    "xy, xx, yy = 0, 0, 0\n",
    "n_pts = X.shape[0]\n",
    "batch_size = n_pts\n",
    "batch_num = n_pts // batch_size\n",
    "idx = np.random.choice(np.arange(n_pts), size=n_pts, replace=False)\n",
    "prev_idx = 0\n",
    "counter = 0\n",
    "for i in range(batch_size, n_pts+batch_size, batch_size):  # iterate over minibatches\n",
    "    i = min(i, n_pts)\n",
    "    #X_batch, Y_batch = X_batch.cuda(), Y_batch.cuda()\n",
    "    #idx = np.random.choice(np.arange(n_pts), size=batch_size, replace=False)\n",
    "    #X_batch, Y_batch = X[idx, :], Y[idx, :]\n",
    "    #print(\"batch start\", prev_idx, \"batch end\", i-1)\n",
    "    counter +=1\n",
    "    #print(counter)\n",
    "    rand_idx = idx[prev_idx:i]\n",
    "    X_batch, Y_batch = X[rand_idx, :], Y[rand_idx, :]\n",
    "    prev_idx = i\n",
    "    xy_n, xx_n, yy_n = cka_minibatch(X_batch, Y_batch, kernel=\"linear\")\n",
    "    xy += xy_n\n",
    "    xx += xx_n\n",
    "    yy += yy_n\n",
    "#cka_value = np.mean(np.stack(cka_scores))\n",
    "print(\"Estimated minibatch CKA:\", cka_batch_collection(xy, xx, yy))"
   ]
  }
 ],
 "metadata": {
  "kernelspec": {
   "display_name": "ponce_env",
   "language": "python",
   "name": "ponce_env"
  },
  "language_info": {
   "codemirror_mode": {
    "name": "ipython",
    "version": 3
   },
   "file_extension": ".py",
   "mimetype": "text/x-python",
   "name": "python",
   "nbconvert_exporter": "python",
   "pygments_lexer": "ipython3",
   "version": "3.12.4"
  }
 },
 "nbformat": 4,
 "nbformat_minor": 5
}
