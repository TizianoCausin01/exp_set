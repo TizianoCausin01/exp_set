{
 "cells": [
  {
   "cell_type": "code",
   "execution_count": 1,
   "id": "abdfd1a2-b1f5-4a88-b169-42824cb78435",
   "metadata": {},
   "outputs": [],
   "source": [
    "import numpy as np\n",
    "from sklearn.linear_model import LinearRegression"
   ]
  },
  {
   "cell_type": "code",
   "execution_count": 2,
   "id": "222f5697-5649-4ab2-9ac7-4acfbc822d38",
   "metadata": {},
   "outputs": [],
   "source": [
    "x = np.array([5, 15, 25, 35, 45, 55]).reshape((-1, 1))\n",
    "y = np.array([5, 20, 14, 32, 22, 38])"
   ]
  },
  {
   "cell_type": "code",
   "execution_count": 6,
   "id": "d9e1d654-c265-4ecf-a646-0208be7fe616",
   "metadata": {},
   "outputs": [],
   "source": [
    "#parameters of the model\n",
    "#fit_intercept is a Boolean that, if True, decides to calculate the intercept 𝑏₀ or, if False, considers it equal to zero. It\n",
    "#defaults to True.\n",
    "#normalize is a Boolean that, if True, decides to normalize the input variables. It defaults to False, in which case it doesnʼt\n",
    "#normalize the input variables.\n",
    "#copy_X is a Boolean that decides whether to copy (True) or overwrite the input variables (False). Itʼs True by default.\n",
    "\n",
    "model = LinearRegression().fit(x, y) # creates a model and fits out data"
   ]
  },
  {
   "cell_type": "code",
   "execution_count": 9,
   "id": "2d5d405c-da8d-4c2e-8525-b67200a02fd7",
   "metadata": {},
   "outputs": [
    {
     "name": "stdout",
     "output_type": "stream",
     "text": [
      "coefficient of determination: 0.715875613747954\n"
     ]
    }
   ],
   "source": [
    "r_squared = model.score(x, y)\n",
    "print(f\"coefficient of determination: {r_squared}\")"
   ]
  },
  {
   "cell_type": "code",
   "execution_count": 12,
   "id": "6748801e-5735-4045-948c-27cc9d4514cb",
   "metadata": {},
   "outputs": [
    {
     "name": "stdout",
     "output_type": "stream",
     "text": [
      "intercept: 5.633333333333333\n",
      "slope: [0.54]\n"
     ]
    }
   ],
   "source": [
    "print(f\"intercept: {model.intercept_}\")\n",
    "print(f\"slope: {model.coef_}\") # trailing underscore by convention to mean it's an estimated value"
   ]
  },
  {
   "cell_type": "code",
   "execution_count": 14,
   "id": "6aef916b-fa12-49d7-9060-f807dc1733ac",
   "metadata": {},
   "outputs": [
    {
     "name": "stdout",
     "output_type": "stream",
     "text": [
      "predicted response: [ 8.33333333 13.73333333 19.13333333 24.53333333 29.93333333 35.33333333] \n",
      " manually predicted response: [[ 8.33333333]\n",
      " [13.73333333]\n",
      " [19.13333333]\n",
      " [24.53333333]\n",
      " [29.93333333]\n",
      " [35.33333333]]\n"
     ]
    }
   ],
   "source": [
    "y_pred = model.predict(x) # to predict the responses on the base of the coefficients on which the model has been trained\n",
    "y_pred_man = model.intercept_ + model.coef_ * x\n",
    "print(f\"predicted response: {y_pred} \\n manually predicted response: {y_pred_man}\")"
   ]
  },
  {
   "cell_type": "code",
   "execution_count": 16,
   "id": "c0162a03-4d9f-4392-a834-2ee47ac4c32e",
   "metadata": {},
   "outputs": [],
   "source": [
    "# multiple linear regression\n",
    "\n",
    "x = [ [0, 1], [5, 1], [15, 2], [25, 5], [35, 11], [45, 15], [55, 34], [60, 35], ] # x £ R^Nxd  , d = 2 , N = 8 (inverted cols and rows)\n",
    "y = [4, 5, 20, 14, 32, 22, 38, 43]\n",
    "x, y = np.array(x), np.array(y)"
   ]
  },
  {
   "cell_type": "code",
   "execution_count": 18,
   "id": "99813515-979c-4f7d-8591-1f4ee51d5a21",
   "metadata": {},
   "outputs": [],
   "source": [
    "model = LinearRegression().fit(x, y)"
   ]
  },
  {
   "cell_type": "code",
   "execution_count": 20,
   "id": "bdd1d221-b24e-4e85-adc5-ddfe9c8498a4",
   "metadata": {},
   "outputs": [
    {
     "name": "stdout",
     "output_type": "stream",
     "text": [
      "coefficient of determination: 0.8615939258756776\n",
      "intercept: 5.52257927519819\n",
      "coefficients: [0.44706965 0.25502548]\n"
     ]
    }
   ],
   "source": [
    "r_sq = model.score(x, y)\n",
    "print(f\"coefficient of determination: {r_sq}\")\n",
    "print(f\"intercept: {model.intercept_}\")\n",
    "print(f\"slopes: {model.coef_}\")"
   ]
  }
 ],
 "metadata": {
  "kernelspec": {
   "display_name": "ponce_env",
   "language": "python",
   "name": "ponce_env"
  },
  "language_info": {
   "codemirror_mode": {
    "name": "ipython",
    "version": 3
   },
   "file_extension": ".py",
   "mimetype": "text/x-python",
   "name": "python",
   "nbconvert_exporter": "python",
   "pygments_lexer": "ipython3",
   "version": "3.12.4"
  }
 },
 "nbformat": 4,
 "nbformat_minor": 5
}
