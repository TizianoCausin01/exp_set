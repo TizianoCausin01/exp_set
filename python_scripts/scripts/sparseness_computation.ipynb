{
 "cells": [
  {
   "cell_type": "code",
   "execution_count": 10,
   "id": "f4c30423-03b1-4355-b37d-ceefded026cb",
   "metadata": {},
   "outputs": [],
   "source": [
    "import torch\n",
    "import sys\n",
    "import numpy as np\n",
    "sys.path.append(\"/Users/tizianocausin/Desktop/backUp20240609/summer2025/ponce_lab/exp_set/python_scripts/src\")\n",
    "from sparsity_in_silico.sparsity_CNN import rust_sparseness\n",
    "import h5py"
   ]
  },
  {
   "cell_type": "code",
   "execution_count": 8,
   "id": "5a527687-8cf2-48e9-94ec-792f001c6cc7",
   "metadata": {},
   "outputs": [],
   "source": [
    "path2res = \"/Users/tizianocausin/Library/CloudStorage/OneDrive-SISSA/data_repo/exp_set_res/silico\"\n",
    "with h5py.File(f\"{path2res}/feats_alexnet.h5\", 'r') as f:\n",
    "    dataset = {}\n",
    "    dataset[\"fc_layer5\"] = f[\"fc_layer5\"][:].astype(np.float32)\n",
    "    dataset[\"fc_layer5\"] = np.transpose(dataset[\"fc_layer5\"])"
   ]
  },
  {
   "cell_type": "code",
   "execution_count": 11,
   "id": "885007e2-7212-4bd0-844a-501c8bb6455f",
   "metadata": {},
   "outputs": [
    {
     "data": {
      "text/plain": [
       "array([0.94149435, 0.8777664 , 0.9238059 , 0.93156964, 0.9426132 ,\n",
       "       0.9261015 , 0.95495915, 0.9342093 , 0.9450431 , 0.9470434 ,\n",
       "       0.9214194 , 0.9576782 , 0.92700326, 0.9655435 , 0.959993  ,\n",
       "       0.9469686 , 0.9394464 , 0.9432295 , 0.9342006 , 0.92087317,\n",
       "       0.9042409 , 0.9238305 , 0.76037896, 0.94897074, 0.9343056 ,\n",
       "       0.9596003 , 0.93137044, 0.932664  , 0.9537787 , 0.93279034,\n",
       "       0.9464912 , 0.9685597 , 0.9457262 , 0.960375  , 0.94170654,\n",
       "       0.9478862 , 0.9383732 , 0.9332069 , 0.9320737 , 0.96298164,\n",
       "       0.9457042 , 0.9184461 , 0.9349219 , 0.8699631 , 0.85338193,\n",
       "       0.969429  , 0.92288405, 0.9520661 , 0.9574835 , 0.9439537 ,\n",
       "       0.96708894, 0.9305525 , 0.9499963 , 0.95372653, 0.92845666,\n",
       "       0.9416071 , 0.82934326, 0.9619975 , 0.8024048 , 0.94587934,\n",
       "       0.95686346, 0.94327724, 0.95662385, 0.9519552 , 0.94815725,\n",
       "       1.00002   , 0.93832046, 0.9280438 , 0.9526179 , 0.92452157,\n",
       "       0.93325824, 0.945778  , 0.8958552 , 0.9546286 , 0.91417277,\n",
       "       0.9365352 , 0.9572357 , 0.9534327 , 0.93345547, 0.968859  ,\n",
       "       0.9362555 ], dtype=float32)"
      ]
     },
     "execution_count": 11,
     "metadata": {},
     "output_type": "execute_result"
    }
   ],
   "source": [
    "rust_sparseness(dataset[\"fc_layer5\"])"
   ]
  }
 ],
 "metadata": {
  "kernelspec": {
   "display_name": "ponce_env",
   "language": "python",
   "name": "ponce_env"
  },
  "language_info": {
   "codemirror_mode": {
    "name": "ipython",
    "version": 3
   },
   "file_extension": ".py",
   "mimetype": "text/x-python",
   "name": "python",
   "nbconvert_exporter": "python",
   "pygments_lexer": "ipython3",
   "version": "3.12.4"
  }
 },
 "nbformat": 4,
 "nbformat_minor": 5
}
