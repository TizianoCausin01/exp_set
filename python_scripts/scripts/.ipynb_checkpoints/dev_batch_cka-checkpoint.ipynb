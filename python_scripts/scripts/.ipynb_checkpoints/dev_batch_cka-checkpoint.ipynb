{
 "cells": [
  {
   "cell_type": "code",
   "execution_count": 17,
   "id": "38ea1a08-a064-4846-be36-4e823c02a78b",
   "metadata": {},
   "outputs": [],
   "source": [
    "import numpy as np\n",
    "import os, yaml, sys\n",
    "ENV = os.getenv(\"MY_ENV\", \"dev\")\n",
    "with open(\"../../config.yaml\", \"r\") as f:\n",
    "    config = yaml.safe_load(f)\n",
    "paths = config[ENV][\"paths\"]\n",
    "sys.path.append(paths[\"src_path\"])\n",
    "from alignment.CKA import cka, cka_minibatch, cka_batch_collection\n",
    "from sklearn.metrics.pairwise import pairwise_kernels\n",
    "from alignment.utils import get_usual_transform\n",
    "from sampling.sampling_methods import random_sets\n",
    "import torch\n",
    "from torch.utils.data import DataLoader, Subset\n",
    "import torch.nn.functional as F\n",
    "from torchvision import datasets\n",
    "from torch.utils.data import Sampler"
   ]
  },
  {
   "cell_type": "code",
   "execution_count": 18,
   "id": "715731fe-d9cf-49b6-8b9b-900c1a308c32",
   "metadata": {},
   "outputs": [
    {
     "ename": "NameError",
     "evalue": "name 'MyDataset' is not defined",
     "output_type": "error",
     "traceback": [
      "\u001b[31m---------------------------------------------------------------------------\u001b[39m",
      "\u001b[31mNameError\u001b[39m                                 Traceback (most recent call last)",
      "\u001b[36mCell\u001b[39m\u001b[36m \u001b[39m\u001b[32mIn[18]\u001b[39m\u001b[32m, line 29\u001b[39m\n\u001b[32m     27\u001b[39m     \u001b[38;5;28;01mdef\u001b[39;00m\u001b[38;5;250m \u001b[39m\u001b[34m__len__\u001b[39m(\u001b[38;5;28mself\u001b[39m):\n\u001b[32m     28\u001b[39m         \u001b[38;5;28;01mreturn\u001b[39;00m \u001b[38;5;28mlen\u001b[39m(\u001b[38;5;28mself\u001b[39m.data_source)\n\u001b[32m---> \u001b[39m\u001b[32m29\u001b[39m dataset = \u001b[43mMyDataset\u001b[49m()\n\u001b[32m     30\u001b[39m sampler = RandomSetsSampler(dataset, n_sets=\u001b[32m10\u001b[39m, batch_size=\u001b[32m5\u001b[39m)\n\u001b[32m     32\u001b[39m loader = DataLoader(dataset, sampler=sampler, batch_size=\u001b[32m5\u001b[39m)  \u001b[38;5;66;03m# batch_size must match!\u001b[39;00m\n",
      "\u001b[31mNameError\u001b[39m: name 'MyDataset' is not defined"
     ]
    }
   ],
   "source": [
    "imagenet_val_path = f\"{paths['data_path']}/imagenet/val\"\n",
    "transform = get_usual_transform()\n",
    "loader = DataLoader(\n",
    "    datasets.ImageFolder(imagenet_val_path, transform=transform),\n",
    "    batch_size=args.batch_size,\n",
    "    num_workers=1,\n",
    "    shuffle=True,\n",
    "    pin_memory=True,\n",
    "    timeout=500,\n",
    ")\n",
    "\n",
    "from torch.utils.data import Dataset\n",
    "\n",
    "class IndexedDataset(Dataset):\n",
    "    def __init__(self, dataset):\n",
    "        self.dataset = dataset  # e.g. ImageFolder or CIFAR10\n",
    "\n",
    "    def __getitem__(self, idx):\n",
    "        img, label = self.dataset[idx]\n",
    "        return img, label, idx   # add the index to the output\n",
    "\n",
    "    def __len__(self):\n",
    "        return len(self.dataset)"
   ]
  },
  {
   "cell_type": "code",
   "execution_count": 5,
   "id": "c305eba8-d0e3-4af6-8db4-dffb4f823597",
   "metadata": {},
   "outputs": [],
   "source": [
    "max_val = 1000\n",
    "n_sets = 20\n",
    "batch_size = 10\n",
    "idx = random_sets(max_val, n_sets, batch_size)"
   ]
  },
  {
   "cell_type": "code",
   "execution_count": 15,
   "id": "4046b9e4-b39d-4873-8722-35def15fc3bb",
   "metadata": {},
   "outputs": [
    {
     "name": "stdout",
     "output_type": "stream",
     "text": [
      "10\n",
      "10\n",
      "10\n",
      "10\n",
      "10\n",
      "10\n",
      "10\n",
      "10\n",
      "10\n",
      "10\n",
      "10\n",
      "10\n",
      "10\n",
      "10\n",
      "10\n",
      "10\n",
      "10\n",
      "10\n",
      "10\n",
      "10\n"
     ]
    }
   ],
   "source": [
    "for i in idx:\n",
    "    subset = Subset(dataset, i)   # select only indices in idx\n",
    "    subset_loader = DataLoader(subset, num_workers=1, shuffle=False)\n",
    "    print(len(subset_loader))\n"
   ]
  },
  {
   "cell_type": "code",
   "execution_count": 25,
   "id": "236623b4-7c4a-4e4e-94aa-6faf75fcbbab",
   "metadata": {},
   "outputs": [
    {
     "name": "stdout",
     "output_type": "stream",
     "text": [
      "0\n",
      "2\n",
      "4\n",
      "6\n",
      "8\n"
     ]
    }
   ],
   "source": [
    "for i in range(0,10, 2):\n",
    "    print(i)"
   ]
  },
  {
   "cell_type": "code",
   "execution_count": 3,
   "id": "7bc42c44-94a0-4b5d-85a0-853f4c1517fc",
   "metadata": {},
   "outputs": [
    {
     "name": "stdout",
     "output_type": "stream",
     "text": [
      "Estimated minibatch CKA: 0.8620530945189993\n"
     ]
    }
   ],
   "source": [
    "cka_scores = []\n",
    "prev_idx = 0\n",
    "xy, xx, yy = 0, 0, 0\n",
    "n_pts = X.shape[0]\n",
    "batch_size = n_pts\n",
    "batch_num = n_pts // batch_size\n",
    "idx = np.random.choice(np.arange(n_pts), size=n_pts, replace=False)\n",
    "prev_idx = 0\n",
    "counter = 0\n",
    "for i in range(batch_size, n_pts+batch_size, batch_size):  # iterate over minibatches\n",
    "    i = min(i, n_pts)\n",
    "    #X_batch, Y_batch = X_batch.cuda(), Y_batch.cuda()\n",
    "    #idx = np.random.choice(np.arange(n_pts), size=batch_size, replace=False)\n",
    "    #X_batch, Y_batch = X[idx, :], Y[idx, :]\n",
    "    #print(\"batch start\", prev_idx, \"batch end\", i-1)\n",
    "    counter +=1\n",
    "    #print(counter)\n",
    "    rand_idx = idx[prev_idx:i]\n",
    "    X_batch, Y_batch = X[rand_idx, :], Y[rand_idx, :]\n",
    "    prev_idx = i\n",
    "    xy_n, xx_n, yy_n = cka_minibatch(X_batch, Y_batch, kernel=\"linear\")\n",
    "    xy += xy_n\n",
    "    xx += xx_n\n",
    "    yy += yy_n\n",
    "#cka_value = np.mean(np.stack(cka_scores))\n",
    "print(\"Estimated minibatch CKA:\", cka_batch_collection(xy, xx, yy))"
   ]
  }
 ],
 "metadata": {
  "kernelspec": {
   "display_name": "ponce_env",
   "language": "python",
   "name": "ponce_env"
  },
  "language_info": {
   "codemirror_mode": {
    "name": "ipython",
    "version": 3
   },
   "file_extension": ".py",
   "mimetype": "text/x-python",
   "name": "python",
   "nbconvert_exporter": "python",
   "pygments_lexer": "ipython3",
   "version": "3.12.4"
  }
 },
 "nbformat": 4,
 "nbformat_minor": 5
}
