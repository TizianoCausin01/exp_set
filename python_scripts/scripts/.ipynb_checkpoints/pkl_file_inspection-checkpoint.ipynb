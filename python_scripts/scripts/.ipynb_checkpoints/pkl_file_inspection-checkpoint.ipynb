{
 "cells": [
  {
   "cell_type": "code",
   "execution_count": 31,
   "id": "30d85923-73fc-4b3e-ad63-e2a823bf00d6",
   "metadata": {},
   "outputs": [],
   "source": [
    "import joblib\n",
    "import numpy as np\n",
    "from sklearn.cross_decomposition import CCA"
   ]
  },
  {
   "cell_type": "code",
   "execution_count": 27,
   "id": "91a42e38-34ef-45c6-ad37-84e2cc260a98",
   "metadata": {},
   "outputs": [],
   "source": [
    "path2file = \"/Users/tizianocausin/Library/CloudStorage/OneDrive-SISSA/data_repo/exp_set_res/silico/imagenet_val_alexnet_features.0_pca_model.pkl\"\n",
    "data_l0 = joblib.load(path2file)"
   ]
  },
  {
   "cell_type": "code",
   "execution_count": null,
   "id": "d00c6623-e209-43f3-be49-38edfc71fba1",
   "metadata": {},
   "outputs": [],
   "source": [
    "print(type(data_l0))\n",
    "print(data_l0.components_.shape)     # Principal axes (eigenvectors)\n",
    "print(data_l0.explained_variance_.shape)   # Variance explained by each component\n",
    "print(np.sum(data_l0.explained_variance_ratio_))  # Ratio of explained variance\n",
    "print(data_l0.n_components)          # Number of components  "
   ]
  },
  {
   "cell_type": "code",
   "execution_count": 28,
   "id": "408f9715-4d00-4e42-aece-cb1aba8e6239",
   "metadata": {},
   "outputs": [],
   "source": [
    "path2file = \"/Users/tizianocausin/Library/CloudStorage/OneDrive-SISSA/data_repo/exp_set_res/silico/imagenet_val_alexnet_features.4_pca_model.pkl\"\n",
    "data_l1 = joblib.load(path2file)"
   ]
  },
  {
   "cell_type": "code",
   "execution_count": 30,
   "id": "c051972c-7695-437a-9355-15b93d6e3f46",
   "metadata": {},
   "outputs": [
    {
     "name": "stdout",
     "output_type": "stream",
     "text": [
      "<class 'sklearn.decomposition._incremental_pca.IncrementalPCA'>\n",
      "(500, 139968)\n",
      "(500,)\n",
      "0.349009831783322\n",
      "500\n"
     ]
    }
   ],
   "source": [
    "print(type(data_l1))\n",
    "print(data_l1.components_.shape)     # Principal axes (eigenvectors)\n",
    "print(data_l1.explained_variance_.shape)   # Variance explained by each component\n",
    "print(np.sum(data_l1.explained_variance_ratio_))  # Ratio of explained variance\n",
    "print(data_l1.n_components)          # Number of components  "
   ]
  },
  {
   "cell_type": "code",
   "execution_count": 35,
   "id": "ab7be2a5-b5bf-442c-ba8e-2da35f6ec8d4",
   "metadata": {},
   "outputs": [],
   "source": [
    "c1 = data_l0.components_[1:200]\n",
    "c2 = data_l0.components_[200:300]"
   ]
  },
  {
   "cell_type": "code",
   "execution_count": 40,
   "id": "3ae74d2b-0d19-463f-a8ed-310f3cae5fd9",
   "metadata": {},
   "outputs": [
    {
     "name": "stderr",
     "output_type": "stream",
     "text": [
      "/Users/tizianocausin/Desktop/virtual_envs/ponce_env/lib/python3.12/site-packages/sklearn/cross_decomposition/_pls.py:104: ConvergenceWarning: Maximum number of iterations reached\n",
      "  warnings.warn(\"Maximum number of iterations reached\", ConvergenceWarning)\n"
     ]
    },
    {
     "name": "stdout",
     "output_type": "stream",
     "text": [
      "Canonical correlations: [np.float64(0.000348889640974136), np.float64(3.111862721085842e-15)]\n"
     ]
    }
   ],
   "source": [
    "cca = CCA(n_components=2)\n",
    "X_c, Y_c = cca.fit_transform(c1.T, c2.T)\n",
    "\n",
    "# Check correlations between components\n",
    "corrs = [np.corrcoef(X_c[:, i], Y_c[:, i])[0, 1] for i in range(2)]\n",
    "print(\"Canonical correlations:\", corrs)"
   ]
  },
  {
   "cell_type": "code",
   "execution_count": 39,
   "id": "edb3c0b9-b882-4d6f-9b59-59d59e6673eb",
   "metadata": {},
   "outputs": [
    {
     "data": {
      "text/plain": [
       "(100, 193600)"
      ]
     },
     "execution_count": 39,
     "metadata": {},
     "output_type": "execute_result"
    }
   ],
   "source": [
    "c2.shape"
   ]
  }
 ],
 "metadata": {
  "kernelspec": {
   "display_name": "ponce_env",
   "language": "python",
   "name": "ponce_env"
  },
  "language_info": {
   "codemirror_mode": {
    "name": "ipython",
    "version": 3
   },
   "file_extension": ".py",
   "mimetype": "text/x-python",
   "name": "python",
   "nbconvert_exporter": "python",
   "pygments_lexer": "ipython3",
   "version": "3.12.4"
  }
 },
 "nbformat": 4,
 "nbformat_minor": 5
}
