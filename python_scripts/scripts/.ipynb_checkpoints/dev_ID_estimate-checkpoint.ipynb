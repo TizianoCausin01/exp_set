{
 "cells": [
  {
   "cell_type": "code",
   "execution_count": 1,
   "id": "7f57795f-6029-4259-96ab-89bf0af58f75",
   "metadata": {},
   "outputs": [
    {
     "name": "stderr",
     "output_type": "stream",
     "text": [
      "[Tiziano-Causin.local:89016] shmem: mmap: an error occurred while determining whether or not /var/folders/nw/yf48zdjj1m5012281wx_pzhc0000gn/T//ompi.Tiziano-Causin.501/jf.0/999948288/sm_segment.Tiziano-Causin.501.3b9a0000.0 could be created.\n"
     ]
    }
   ],
   "source": [
    "import numpy as np\n",
    "import joblib\n",
    "import os, yaml, sys\n",
    "import torch\n",
    "from torch.utils.data import DataLoader, Subset\n",
    "from torchvision import datasets, models\n",
    "from torchvision.models.feature_extraction import (\n",
    "    create_feature_extractor,\n",
    "    get_graph_node_names,\n",
    ")\n",
    "from sklearn.decomposition import PCA\n",
    "from dadapy import data\n",
    "\n",
    "ENV = os.getenv(\"MY_ENV\", \"dev\")\n",
    "with open(\"../../config.yaml\", \"r\") as f:\n",
    "    config = yaml.safe_load(f)\n",
    "paths = config[ENV][\"paths\"]\n",
    "sys.path.append(paths[\"src_path\"])\n",
    "from dim_redu_anns.utils import get_relevant_output_layers, get_layer_out_shape\n",
    "from pref_viewing.utils import plot_imgs\n",
    "from alignment.utils import get_usual_transform\n",
    "from parallel.parallel_funcs import print_wise\n",
    "\n",
    "device = torch.device(\"cuda\" if torch.cuda.is_available() else \"cpu\")"
   ]
  },
  {
   "cell_type": "code",
   "execution_count": 2,
   "id": "aee1c477-0271-4419-8809-5759b529e99b",
   "metadata": {},
   "outputs": [],
   "source": [
    "# hyperparameters\n",
    "neurons_perc = 10\n",
    "img_num = 7\n",
    "space_option = \"cca\" # \"random\", \"pca\", \"cca\""
   ]
  },
  {
   "cell_type": "code",
   "execution_count": 3,
   "id": "cee182c6-b991-4732-bce8-c1497657f713",
   "metadata": {},
   "outputs": [],
   "source": [
    "# sample indices\n",
    "sampled_indices = [0, 1, 2, 100, 20000, 300, 20492] \n"
   ]
  },
  {
   "cell_type": "code",
   "execution_count": 4,
   "id": "6c949e60-33d3-4de1-be10-2a1aab600976",
   "metadata": {},
   "outputs": [],
   "source": [
    "imagenet_val_path = f\"{paths['data_path']}/imagenet/val\"\n",
    "transform = get_usual_transform()\n",
    "batch_size = 1\n",
    "loader = DataLoader(\n",
    "    Subset(datasets.ImageFolder(imagenet_val_path, transform=transform), sampled_indices),\n",
    "    batch_size=batch_size,\n",
    "    num_workers=1,\n",
    "    shuffle=False,\n",
    "    pin_memory=True,\n",
    "    timeout=500,\n",
    ")"
   ]
  },
  {
   "cell_type": "code",
   "execution_count": 5,
   "id": "2e5305ae-9f3f-45c5-99d7-08bc82698e26",
   "metadata": {},
   "outputs": [
    {
     "name": "stderr",
     "output_type": "stream",
     "text": [
      "/Users/tizianocausin/Desktop/virtual_envs/ponce_env/lib/python3.12/site-packages/torchvision/models/_utils.py:208: UserWarning: The parameter 'pretrained' is deprecated since 0.13 and may be removed in the future, please use 'weights' instead.\n",
      "  warnings.warn(\n",
      "/Users/tizianocausin/Desktop/virtual_envs/ponce_env/lib/python3.12/site-packages/torchvision/models/_utils.py:223: UserWarning: Arguments other than a weight enum or `None` for 'weights' are deprecated since 0.13 and may be removed in the future. The current behavior is equivalent to passing `weights=AlexNet_Weights.IMAGENET1K_V1`. You can also use `weights=AlexNet_Weights.DEFAULT` to get the most up-to-date weights.\n",
      "  warnings.warn(msg)\n"
     ]
    }
   ],
   "source": [
    "# network setting\n",
    "test_network = \"alexnet\"\n",
    "test_model_cls = getattr(models, test_network)\n",
    "test_model = test_model_cls(pretrained=True).to(device).eval()\n",
    "test_layer = \"features.0\"\n",
    "test_feature_extractor = create_feature_extractor(test_model, return_nodes=[test_layer]).to(\n",
    "    device\n",
    ")\n",
    "tot_neurons = np.prod(get_layer_out_shape(test_feature_extractor, test_layer))\n"
   ]
  },
  {
   "cell_type": "code",
   "execution_count": 6,
   "id": "d9158e4b-ac1a-47cf-a64d-3ad9b0fedb69",
   "metadata": {},
   "outputs": [],
   "source": [
    "rand_neu_num = int(tot_neurons*neurons_perc/100)\n",
    "random_neu_idx = np.random.choice(tot_neurons, rand_neu_num, replace=False)"
   ]
  },
  {
   "cell_type": "code",
   "execution_count": 7,
   "id": "88101265-cad0-4212-9e8e-91f86e0b2441",
   "metadata": {},
   "outputs": [
    {
     "name": "stderr",
     "output_type": "stream",
     "text": [
      "/Users/tizianocausin/Desktop/virtual_envs/ponce_env/lib/python3.12/site-packages/torch/utils/data/dataloader.py:683: UserWarning: 'pin_memory' argument is set as true but not supported on MPS now, then device pinned memory won't be used.\n",
      "  warnings.warn(warn_msg)\n"
     ]
    },
    {
     "name": "stdout",
     "output_type": "stream",
     "text": [
      "08:34:20 - starting batch 1\n",
      "08:34:20 - starting batch 2\n",
      "08:34:20 - starting batch 3\n",
      "08:34:20 - starting batch 4\n",
      "08:34:20 - starting batch 5\n",
      "08:34:20 - starting batch 6\n",
      "08:34:20 - starting batch 7\n"
     ]
    }
   ],
   "source": [
    "# network pass (picking some random units)\n",
    "# neurons number index\n",
    "# TODO ADD percentage and save as csv file\n",
    "counter = 0\n",
    "all_feats = []\n",
    "for inputs, _ in loader:\n",
    "    counter += 1\n",
    "    print_wise(f\"starting batch {counter}\")\n",
    "    with torch.no_grad():\n",
    "        inputs = inputs.to(device)\n",
    "        feats = test_feature_extractor(inputs)[test_layer]\n",
    "        feats = feats.view(feats.size(0), -1).cpu().numpy()\n",
    "        feats = feats[:, random_neu_idx]\n",
    "        all_feats.append(feats)\n",
    "# end for inputs, _ in loader:\n",
    "all_acts = np.concatenate(all_feats, axis=0)\n"
   ]
  },
  {
   "cell_type": "code",
   "execution_count": 8,
   "id": "36888a24-3dab-467a-acd2-ceff95f79cfd",
   "metadata": {},
   "outputs": [
    {
     "data": {
      "text/plain": [
       "(7, 19360)"
      ]
     },
     "execution_count": 8,
     "metadata": {},
     "output_type": "execute_result"
    }
   ],
   "source": [
    "all_acts.shape"
   ]
  },
  {
   "cell_type": "code",
   "execution_count": 9,
   "id": "4f47d7f2-5d36-4f92-a915-5f8d3b4cb2b2",
   "metadata": {},
   "outputs": [
    {
     "name": "stdout",
     "output_type": "stream",
     "text": [
      "[3.4429082e-01 2.0000920e-01 1.6877699e-01 1.3699646e-01 9.1126084e-02\n",
      " 5.8800396e-02 7.4570517e-14]\n"
     ]
    }
   ],
   "source": [
    "# PCA and spectrum or ID estimation\n",
    "pca = PCA(n_components=min(rand_neu_num, img_num))\n",
    "pca.fit(all_acts)\n",
    "print(pca.explained_variance_ratio_)"
   ]
  },
  {
   "cell_type": "code",
   "execution_count": 10,
   "id": "1a4506cf-ab64-4048-8f1e-494639cd6d30",
   "metadata": {},
   "outputs": [
    {
     "data": {
      "text/plain": [
       "[<matplotlib.lines.Line2D at 0x17fffb020>]"
      ]
     },
     "execution_count": 10,
     "metadata": {},
     "output_type": "execute_result"
    },
    {
     "data": {
      "image/png": "[encoded data removed]",
      "text/plain": [
       "<Figure size 640x480 with 1 Axes>"
      ]
     },
     "metadata": {},
     "output_type": "display_data"
    },
    {
     "data": {
      "image/png": "[encoded data removed]",
      "text/plain": [
       "<Figure size 640x480 with 1 Axes>"
      ]
     },
     "metadata": {},
     "output_type": "display_data"
    }
   ],
   "source": [
    "import matplotlib.pyplot as plt\n",
    "plt.plot(range(min(rand_neu_num, img_num)), np.cumsum(pca.explained_variance_ratio_))\n",
    "plt.figure()\n",
    "plt.plot(range(min(rand_neu_num, img_num)), np.cumsum(pca.explained_variance_))\n"
   ]
  },
  {
   "cell_type": "code",
   "execution_count": 20,
   "id": "12fddd00-fcd0-4fbf-b07c-af0e4d814e36",
   "metadata": {},
   "outputs": [
    {
     "name": "stdout",
     "output_type": "stream",
     "text": [
      "ID = 7.838711206152329; r = 383.371912356143\n"
     ]
    }
   ],
   "source": [
    "# initialise the Data class\n",
    "_data = data.Data(all_acts[:6,:])\n",
    "# estimate ID\n",
    "id_twoNN, _, r = _data.compute_id_2NN()\n",
    "\n",
    "print(f\"ID = {id_twoNN}; r = {r}\".format(id_twoNN, r))\n"
   ]
  }
 ],
 "metadata": {
  "kernelspec": {
   "display_name": "ponce_env",
   "language": "python",
   "name": "ponce_env"
  },
  "language_info": {
   "codemirror_mode": {
    "name": "ipython",
    "version": 3
   },
   "file_extension": ".py",
   "mimetype": "text/x-python",
   "name": "python",
   "nbconvert_exporter": "python",
   "pygments_lexer": "ipython3",
   "version": "3.12.4"
  }
 },
 "nbformat": 4,
 "nbformat_minor": 5
}
