{
 "cells": [
  {
   "cell_type": "code",
   "execution_count": 1,
   "metadata": {},
   "outputs": [],
   "source": [
    "import os, sys, time\n",
    "from matplotlib import pyplot as plt\n",
    "%matplotlib inline\n",
    "import numpy as np\n",
    "import joblib\n",
    "#import pickle\n",
    "import pandas\n",
    "import torch\n",
    "sys.path.append(\"/Users/tizianocausin/Desktop/backUp20240609/summer2025/ponce_lab/exp_set/python_scripts/svcca\")\n",
    "import cca_core\n",
    "from sklearn.cross_decomposition import CCA\n",
    "from torchvision.models.feature_extraction import (\n",
    "    create_feature_extractor,\n",
    "    get_graph_node_names,\n",
    ")\n",
    "from datetime import datetime\n",
    "sys.path.append(\"/Users/tizianocausin/Desktop/backUp20240609/summer2025/ponce_lab/exp_set/python_scripts/src\")\n",
    "from dim_redu_anns.utils import get_relevant_output_layers\n",
    "from alignment.CCA import CCA_loop_within_mod"
   ]
  },
  {
   "cell_type": "code",
   "execution_count": 2,
   "metadata": {},
   "outputs": [],
   "source": [
    "res_path = \"/Users/tizianocausin/OneDrive - SISSA/data_repo/exp_set_res/silico\"\n",
    "model_name = \"alexnet\"\n",
    "pooling = \"maxpool\"\n",
    "num_components = 50\n",
    "#CCA_loop_within_mod(model_name, pooling, num_components, res_path)"
   ]
  },
  {
   "cell_type": "code",
   "execution_count": 3,
   "metadata": {},
   "outputs": [],
   "source": [
    "def CCA_loop_within_modd(model_name, pooling, num_components, res_path):\n",
    "    layer_names = get_relevant_output_layers(model_name)\n",
    "    cca_dir = f\"{res_path}/ccca_{model_name}_{pooling}\"\n",
    "    os.makedirs(cca_dir, exist_ok=True)\n",
    "    layers_RSA = np.zeros((len(layer_names),len(layer_names)))\n",
    "    for layer_idx1 in range(len(layer_names)):\n",
    "        for layer_idx2 in range(layer_idx1):\n",
    "            target_layer1 = layer_names[layer_idx1]\n",
    "            feats_path1 = f\"{res_path}/imagenet_val_{model_name}_{target_layer1}_{pooling}_features.pkl\"\n",
    "            target_layer2 = layer_names[layer_idx2]\n",
    "            print(datetime.now().strftime(\"%H:%M:%S\"), f\"stating layers {target_layer1} vs {target_layer2}\")\n",
    "            feats_path2 = f\"{res_path}/imagenet_val_{model_name}_{target_layer2}_{pooling}_features.pkl\"\n",
    "            save_path = f\"{cca_dir}/cca_{model_name}_{num_components}_components_{target_layer1}_vs_{target_layer2}.pkl\"\n",
    "            if os.path.exists(save_path):\n",
    "                print(\n",
    "                    datetime.now().strftime(\"%H:%M:%S\"),\n",
    "                    f\"CCA already exists for {target_layer1} vs {target_layer2}  at {save_path}\",\n",
    "                    flush=True\n",
    "                )\n",
    "            else:\n",
    "                all_acts1 = joblib.load(feats_path1)\n",
    "                all_acts2 = joblib.load(feats_path2)\n",
    "                results = cca_core.robust_cca_similarity(all_acts1.T, all_acts2.T)\n",
    "                joblib.dump(results, save_path)\n",
    "                layers_RSA[layer_idx1, layer_idx2] = np.mean(results[\"cca_coef1\"])\n",
    "                print(datetime.now().strftime(\"%H:%M:%S\"), f\"{target_layer1} vs {target_layer2} corr {np.round(np.mean(results[\"cca_coef1\"]), 3)}\", flush=True)\n",
    "    csv_save_path = f\"{cca_dir}/{model_name}_similarity_layers.csv\"\n",
    "    np.savetxt(csv_save_path, layers_RSA, delimiter=\",\")\n",
    "    return layers_RSA"
   ]
  },
  {
   "cell_type": "code",
   "execution_count": null,
   "metadata": {},
   "outputs": [
    {
     "name": "stdout",
     "output_type": "stream",
     "text": [
      "09:36:12 stating layers features.4 vs features.0\n",
      "09:36:24 features.4 vs features.0 corr 0.448\n",
      "09:36:24 stating layers features.7 vs features.0\n",
      "09:36:31 features.7 vs features.0 corr 0.394\n",
      "09:36:31 stating layers features.7 vs features.4\n",
      "09:36:32 features.7 vs features.4 corr 0.436\n",
      "09:36:32 stating layers features.9 vs features.0\n",
      "09:36:37 features.9 vs features.0 corr 0.297\n",
      "09:36:37 stating layers features.9 vs features.4\n",
      "09:36:38 features.9 vs features.4 corr 0.297\n",
      "09:36:38 stating layers features.9 vs features.7\n",
      "09:36:40 features.9 vs features.7 corr 0.383\n",
      "09:36:40 stating layers features.11 vs features.0\n",
      "09:36:44 features.11 vs features.0 corr 0.284\n",
      "09:36:44 stating layers features.11 vs features.4\n",
      "09:36:45 features.11 vs features.4 corr 0.272\n",
      "09:36:45 stating layers features.11 vs features.7\n",
      "09:36:47 features.11 vs features.7 corr 0.342\n",
      "09:36:47 stating layers features.11 vs features.9\n",
      "09:36:48 features.11 vs features.9 corr 0.379\n",
      "09:36:48 stating layers classifier.2 vs features.0\n",
      "Negative eigenvalues: [-1.44578975e-06 -5.88830645e-07]\n",
      "Negative eigenvalues: [-1.44578975e-06 -5.88830645e-07]\n",
      "Negative eigenvalues: [-1.44578975e-06 -5.88830645e-07]\n",
      "Negative eigenvalues: [-1.44578975e-06 -5.88830645e-07]\n",
      "Negative eigenvalues: [-1.44578975e-06 -5.88830645e-07]\n",
      "09:42:48 classifier.2 vs features.0 corr 0.458\n",
      "09:42:48 stating layers classifier.2 vs features.4\n",
      "Negative eigenvalues: [-1.44578975e-06 -5.88830645e-07]\n",
      "Negative eigenvalues: [-1.44578975e-06 -5.88830645e-07]\n",
      "Negative eigenvalues: [-1.44578975e-06 -5.88830645e-07]\n",
      "Negative eigenvalues: [-1.44578975e-06 -5.88830645e-07]\n",
      "Negative eigenvalues: [-1.44578975e-06 -5.88830645e-07]\n",
      "09:47:46 classifier.2 vs features.4 corr 0.469\n",
      "09:47:46 stating layers classifier.2 vs features.7\n"
     ]
    }
   ],
   "source": [
    "layers_rsa = CCA_loop_within_modd(model_name, pooling, num_components, res_path)"
   ]
  },
  {
   "cell_type": "code",
   "execution_count": 9,
   "metadata": {},
   "outputs": [
    {
     "name": "stdout",
     "output_type": "stream",
     "text": [
      "dict_keys(['coef_x', 'invsqrt_xx', 'full_coef_x', 'full_invsqrt_xx', 'coef_y', 'invsqrt_yy', 'full_coef_y', 'full_invsqrt_yy', 'neuron_means1', 'neuron_means2', 'cca_coef1', 'cca_coef2', 'x_idxs', 'y_idxs', 'mean', 'sum', 'cca_dirns1', 'cca_dirns2'])\n"
     ]
    }
   ],
   "source": [
    "print(results.keys())"
   ]
  },
  {
   "cell_type": "code",
   "execution_count": 14,
   "metadata": {},
   "outputs": [
    {
     "name": "stdout",
     "output_type": "stream",
     "text": [
      "0.44772853351264735\n",
      "(192, 49152)\n"
     ]
    }
   ],
   "source": [
    "print(np.mean(results[\"cca_coef1\"]))\n",
    "print(results[\"cca_dirns1\"].shape)"
   ]
  }
 ],
 "metadata": {
  "kernelspec": {
   "display_name": "Python 3 (ipykernel)",
   "language": "python",
   "name": "python3"
  },
  "language_info": {
   "codemirror_mode": {
    "name": "ipython",
    "version": 3
   },
   "file_extension": ".py",
   "mimetype": "text/x-python",
   "name": "python",
   "nbconvert_exporter": "python",
   "pygments_lexer": "ipython3",
   "version": "3.12.4"
  },
  "toc": {
   "base_numbering": 1,
   "nav_menu": {},
   "number_sections": false,
   "sideBar": true,
   "skip_h1_title": false,
   "title_cell": "Table of Contents",
   "title_sidebar": "Contents",
   "toc_cell": true,
   "toc_position": {},
   "toc_section_display": true,
   "toc_window_display": true
  }
 },
 "nbformat": 4,
 "nbformat_minor": 4
}
