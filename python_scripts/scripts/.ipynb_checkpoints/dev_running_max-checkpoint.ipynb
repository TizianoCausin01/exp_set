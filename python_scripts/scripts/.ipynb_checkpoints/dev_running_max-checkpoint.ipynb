{
 "cells": [
  {
   "cell_type": "code",
   "execution_count": 1,
   "id": "6cd8a9fa-8b14-434f-9737-fc2cc48dc6c4",
   "metadata": {},
   "outputs": [],
   "source": [
    "import numpy as np\n",
    "import joblib\n",
    "import matplotlib.pyplot as plt\n",
    "import os, yaml, sys\n",
    "ENV = os.getenv(\"MY_ENV\", \"dev\")\n",
    "with open(\"../../config.yaml\", \"r\") as f:\n",
    "    config = yaml.safe_load(f)\n",
    "paths = config[ENV][\"paths\"]\n",
    "sys.path.append(paths[\"src_path\"])\n",
    "from torchvision.models.feature_extraction import (\n",
    "    create_feature_extractor,\n",
    "    get_graph_node_names,\n",
    ")\n",
    "import torch\n",
    "from torch.utils.data import DataLoader\n",
    "from alignment.utils import get_usual_transform\n",
    "from dim_redu_anns.utils import get_relevant_output_layers\n",
    "from dim_redu_anns.incremental_pca import get_top_n_dimensions\n",
    "from torchvision import transforms, datasets, models\n",
    "from datetime import datetime\n"
   ]
  },
  {
   "cell_type": "code",
   "execution_count": 2,
   "id": "43895672-f051-44eb-a77e-ee4cc64690c0",
   "metadata": {},
   "outputs": [],
   "source": [
    "# variables to be added interactively\n",
    "model_name = \"alexnet\"\n",
    "batch_size = 3\n",
    "num_workers = 1\n",
    "top_n_PCs = 5\n",
    "extreme_n_imgs = 5"
   ]
  },
  {
   "cell_type": "code",
   "execution_count": 3,
   "id": "36346f87-7ca3-4fb6-91b5-b9c4aaae9385",
   "metadata": {},
   "outputs": [
    {
     "name": "stderr",
     "output_type": "stream",
     "text": [
      "/Users/tizianocausin/Desktop/virtual_envs/ponce_env/lib/python3.12/site-packages/torchvision/models/_utils.py:208: UserWarning: The parameter 'pretrained' is deprecated since 0.13 and may be removed in the future, please use 'weights' instead.\n",
      "  warnings.warn(\n",
      "/Users/tizianocausin/Desktop/virtual_envs/ponce_env/lib/python3.12/site-packages/torchvision/models/_utils.py:223: UserWarning: Arguments other than a weight enum or `None` for 'weights' are deprecated since 0.13 and may be removed in the future. The current behavior is equivalent to passing `weights=AlexNet_Weights.IMAGENET1K_V1`. You can also use `weights=AlexNet_Weights.DEFAULT` to get the most up-to-date weights.\n",
      "  warnings.warn(msg)\n"
     ]
    }
   ],
   "source": [
    "# set up CNN & feature extractor\n",
    "#target_layer = \"features.0\"\n",
    "device = torch.device(\"cuda\" if torch.cuda.is_available() else \"cpu\")\n",
    "model_cls = getattr(models, model_name)\n",
    "model = model_cls(pretrained=True).to(device).eval()\n"
   ]
  },
  {
   "cell_type": "code",
   "execution_count": 4,
   "id": "f9acf5a1-85c6-4115-8774-c8d4092c1c2b",
   "metadata": {},
   "outputs": [],
   "source": [
    "# set up dataloader\n",
    "imagenet_val_path = f\"{paths[\"data_path\"]}/imagenet/val\"\n",
    "transform = get_usual_transform()\n",
    "\n",
    "loader = DataLoader(\n",
    "    datasets.ImageFolder(imagenet_val_path, transform=transform),\n",
    "    batch_size=batch_size,\n",
    "    num_workers=num_workers,\n",
    "    pin_memory=True,\n",
    "    timeout=500,\n",
    ")  # shuffle=True, took out bc I want my feats aligned"
   ]
  },
  {
   "cell_type": "code",
   "execution_count": null,
   "id": "25676041-61c6-47a5-a95e-3a4b7085dcfe",
   "metadata": {},
   "outputs": [
    {
     "name": "stderr",
     "output_type": "stream",
     "text": [
      "/Users/tizianocausin/Desktop/virtual_envs/ponce_env/lib/python3.12/site-packages/torch/utils/data/dataloader.py:683: UserWarning: 'pin_memory' argument is set as true but not supported on MPS now, then device pinned memory won't be used.\n",
      "  warnings.warn(warn_msg)\n",
      "python(32355) MallocStackLogging: can't turn off malloc stack logging because it was not enabled.\n",
      "python(32356) MallocStackLogging: can't turn off malloc stack logging because it was not enabled.\n"
     ]
    },
    {
     "name": "stdout",
     "output_type": "stream",
     "text": [
      "17:31:10 starting batch 1\n",
      "17:31:10 starting batch 2\n",
      "17:31:10 starting batch 3\n",
      "17:31:15 finished passing stimuli\n",
      "17:31:15 saved files\n"
     ]
    },
    {
     "name": "stderr",
     "output_type": "stream",
     "text": [
      "/Users/tizianocausin/Desktop/virtual_envs/ponce_env/lib/python3.12/site-packages/torch/utils/data/dataloader.py:683: UserWarning: 'pin_memory' argument is set as true but not supported on MPS now, then device pinned memory won't be used.\n",
      "  warnings.warn(warn_msg)\n",
      "python(32358) MallocStackLogging: can't turn off malloc stack logging because it was not enabled.\n"
     ]
    },
    {
     "name": "stdout",
     "output_type": "stream",
     "text": [
      "17:31:19 starting batch 1\n",
      "17:31:19 starting batch 2\n",
      "17:31:19 starting batch 3\n",
      "17:31:24 finished passing stimuli\n",
      "17:31:24 saved files\n"
     ]
    }
   ],
   "source": [
    "num_stim = 10; batch_size = 3; extreme_n_imgs = 5\n",
    "get_top_n_dimensions(model_name, model, loader, extreme_n_imgs, top_n_PCs, num_stim, batch_size, paths)"
   ]
  }
 ],
 "metadata": {
  "kernelspec": {
   "display_name": "ponce_env",
   "language": "python",
   "name": "ponce_env"
  },
  "language_info": {
   "codemirror_mode": {
    "name": "ipython",
    "version": 3
   },
   "file_extension": ".py",
   "mimetype": "text/x-python",
   "name": "python",
   "nbconvert_exporter": "python",
   "pygments_lexer": "ipython3",
   "version": "3.12.4"
  }
 },
 "nbformat": 4,
 "nbformat_minor": 5
}
