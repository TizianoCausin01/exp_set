{
 "cells": [
  {
   "cell_type": "code",
   "execution_count": null,
   "id": "1e07ec1a-e430-424d-a482-c22af3386fa8",
   "metadata": {},
   "outputs": [],
   "source": [
    "aaaa"
   ]
  }
 ],
 "metadata": {
  "kernelspec": {
   "display_name": "ponce_env",
   "language": "python",
   "name": "ponce_env"
  },
  "language_info": {
   "codemirror_mode": {
    "name": "ipython",
    "version": 3
   },
   "file_extension": ".py",
   "mimetype": "text/x-python",
   "name": "python",
   "nbconvert_exporter": "python",
   "pygments_lexer": "ipython3",
   "version": "3.12.4"
  }
 },
 "nbformat": 4,
 "nbformat_minor": 5
}
