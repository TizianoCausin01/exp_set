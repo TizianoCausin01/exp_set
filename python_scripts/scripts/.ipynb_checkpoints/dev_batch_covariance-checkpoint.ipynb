{
 "cells": [
  {
   "cell_type": "code",
   "execution_count": 1,
   "id": "38ea1a08-a064-4846-be36-4e823c02a78b",
   "metadata": {},
   "outputs": [],
   "source": [
    "import numpy as np\n",
    "import os, yaml, sys\n",
    "ENV = os.getenv(\"MY_ENV\", \"dev\")\n",
    "with open(\"../../config.yaml\", \"r\") as f:\n",
    "    config = yaml.safe_load(f)\n",
    "paths = config[ENV][\"paths\"]\n",
    "sys.path.append(paths[\"src_path\"])\n",
    "from alignment.CKA import cka, cka_minibatch, cka_batch_collection\n",
    "from sklearn.metrics.pairwise import pairwise_kernels\n",
    "import torch\n",
    "import torch.nn.functional as F"
   ]
  },
  {
   "cell_type": "code",
   "execution_count": 2,
   "id": "715731fe-d9cf-49b6-8b9b-900c1a308c32",
   "metadata": {},
   "outputs": [
    {
     "name": "stdout",
     "output_type": "stream",
     "text": [
      "Linear CKA: 0.8965438447003639\n",
      "RBF CKA: 0.9999955030298343\n"
     ]
    }
   ],
   "source": [
    "# Random activations from two layers\n",
    "X = np.random.randn(3000, 1000)  # 100 samples, 128 neurons\n",
    "Y = 5*X +2*np.random.randn(3000, 1000)  # 100 samples, 256 neurons\n",
    "\n",
    "# Linear CKA\n",
    "print(\"Linear CKA:\", cka(X, Y, kernel=\"linear\"))\n",
    "\n",
    "# RBF CKA\n",
    "print(\"RBF CKA:\", cka(X, Y, kernel=\"rbf\", gamma=1.0))"
   ]
  },
  {
   "cell_type": "code",
   "execution_count": 3,
   "id": "7bc42c44-94a0-4b5d-85a0-853f4c1517fc",
   "metadata": {},
   "outputs": [
    {
     "name": "stdout",
     "output_type": "stream",
     "text": [
      "Estimated minibatch CKA: 0.8620530945189993\n"
     ]
    }
   ],
   "source": [
    "cka_scores = []\n",
    "prev_idx = 0\n",
    "xy, xx, yy = 0, 0, 0\n",
    "n_pts = X.shape[0]\n",
    "batch_size = n_pts\n",
    "batch_num = n_pts // batch_size\n",
    "idx = np.random.choice(np.arange(n_pts), size=n_pts, replace=False)\n",
    "prev_idx = 0\n",
    "counter = 0\n",
    "for i in range(batch_size, n_pts+batch_size, batch_size):  # iterate over minibatches\n",
    "    i = min(i, n_pts)\n",
    "    #X_batch, Y_batch = X_batch.cuda(), Y_batch.cuda()\n",
    "    #idx = np.random.choice(np.arange(n_pts), size=batch_size, replace=False)\n",
    "    #X_batch, Y_batch = X[idx, :], Y[idx, :]\n",
    "    #print(\"batch start\", prev_idx, \"batch end\", i-1)\n",
    "    counter +=1\n",
    "    #print(counter)\n",
    "    rand_idx = idx[prev_idx:i]\n",
    "    X_batch, Y_batch = X[rand_idx, :], Y[rand_idx, :]\n",
    "    prev_idx = i\n",
    "    xy_n, xx_n, yy_n = cka_minibatch(X_batch, Y_batch, kernel=\"linear\")\n",
    "    xy += xy_n\n",
    "    xx += xx_n\n",
    "    yy += yy_n\n",
    "#cka_value = np.mean(np.stack(cka_scores))\n",
    "print(\"Estimated minibatch CKA:\", cka_batch_collection(xy, xx, yy))"
   ]
  }
 ],
 "metadata": {
  "kernelspec": {
   "display_name": "ponce_env",
   "language": "python",
   "name": "ponce_env"
  },
  "language_info": {
   "codemirror_mode": {
    "name": "ipython",
    "version": 3
   },
   "file_extension": ".py",
   "mimetype": "text/x-python",
   "name": "python",
   "nbconvert_exporter": "python",
   "pygments_lexer": "ipython3",
   "version": "3.12.4"
  }
 },
 "nbformat": 4,
 "nbformat_minor": 5
}
