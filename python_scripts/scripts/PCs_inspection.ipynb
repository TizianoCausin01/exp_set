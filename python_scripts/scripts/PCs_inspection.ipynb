{
 "cells": [
  {
   "cell_type": "code",
   "execution_count": 13,
   "id": "30d85923-73fc-4b3e-ad63-e2a823bf00d6",
   "metadata": {},
   "outputs": [],
   "source": [
    "import joblib\n",
    "import numpy as np\n",
    "import pandas as pd\n",
    "from sklearn.cross_decomposition import CCA\n",
    "import matplotlib.pyplot as plt"
   ]
  },
  {
   "cell_type": "code",
   "execution_count": 2,
   "id": "91a42e38-34ef-45c6-ad37-84e2cc260a98",
   "metadata": {},
   "outputs": [],
   "source": [
    "models = [\"alexnet\"]\n",
    "\n",
    "layers = [  [\n",
    "            'features.0',       # conv1\n",
    "            'features.4',       # conv2\n",
    "            'features.7',       # conv3\n",
    "            'features.9',       # conv4\n",
    "            'features.11',      # conv5\n",
    "            'classifier.2',     # fc6\n",
    "            'classifier.5'      # fc7\n",
    "        ],\n",
    "            [\n",
    "            'features.0',       # conv1_1 (V1)\n",
    "            'features.2',       # conv1_2\n",
    "            'features.5',       # conv2_2\n",
    "            'features.10',      # conv3_3\n",
    "            'features.12',      # conv4_1\n",
    "            'features.16',      # conv4_3\n",
    "            'features.19',      # conv5_1\n",
    "            'features.23',      # conv5_3\n",
    "            'features.30',      # final conv\n",
    "            'classifier.0'      # first FC layer\n",
    "        ],\n",
    "        [\n",
    "            'conv_proj',                                      # patch embedding (V1-like)\n",
    "            'encoder.layers.encoder_layer_0.add_1',           # early transformer block ?~F~P V1\n",
    "            'encoder.layers.encoder_layer_2.add_1',           # mid/early block\n",
    "            'encoder.layers.encoder_layer_4.add_1',           # mid\n",
    "            'encoder.layers.encoder_layer_6.add_1',           # V4-like\n",
    "            'encoder.layers.encoder_layer_8.add_1',           # higher block\n",
    "            'encoder.layers.encoder_layer_10.add_1',          # deep\n",
    "            'encoder.layers.encoder_layer_11.add_1',          # very deep ?~F~P IT\n",
    "            'encoder.ln',                                     # final transformer output\n",
    "            'heads.head'                                      # classification head ?~F~P IT\n",
    "        ], \n",
    "        [\n",
    "            'conv1',                         # V1\n",
    "            'layer1.0.relu_1',               # V2\n",
    "            'layer1.1.relu_1',               # V2/V4\n",
    "            'layer2.0.relu_1',               # V4\n",
    "            'layer2.1.relu_1',               # V4\n",
    "            'layer3.0.relu_1',               # V4/IT\n",
    "            'layer3.1.relu_1',               # IT\n",
    "            'layer4.0.relu_1',               # IT\n",
    "            'layer4.1.relu_1',               # IT\n",
    "            'avgpool'                        # pooled features (IT-like)\n",
    "        ],\n",
    "        [\n",
    "            'conv1',                         # V1\n",
    "            'layer1.0.relu_2',\n",
    "            'layer1.1.relu_2',               # V2\n",
    "            'layer1.2.relu_2',               # V2\n",
    "            'layer2.0.relu_2',\n",
    "            'layer2.1.relu_2',               # V4\n",
    "            'layer2.2.relu_2',               # V4\n",
    "            'layer2.3.relu_2',               # V4\n",
    "            'layer3.0.relu_2',\n",
    "            'layer3.1.relu_2',               # V4/IT\n",
    "            'layer3.2.relu_2',               # V4/IT\n",
    "            'layer3.3.relu_2',               # IT-like\n",
    "            'layer3.4.relu_2',\n",
    "            'layer3.5.relu_2',               # IT-like\n",
    "            'layer4.0.relu_2',\n",
    "            'layer4.1.relu_2',               # IT-like\n",
    "            'layer4.2.relu_2',\n",
    "            'avgpool'\n",
    "        ]]\n"
   ]
  },
  {
   "cell_type": "code",
   "execution_count": 15,
   "id": "20f79ece-4a22-4e36-a5e7-a9dfdb2c014e",
   "metadata": {},
   "outputs": [],
   "source": [
    "imod = 0\n",
    "ilayer = 5\n",
    "path2file = f\"/Users/tizianocausin/Library/CloudStorage/OneDrive-SISSA/data_repo/exp_set_res/silico/imagenet_val_{models[imod]}_{layers[imod][ilayer]}_pca_model.pkl\"\n",
    "data_l0 = joblib.load(path2file)"
   ]
  },
  {
   "cell_type": "code",
   "execution_count": 17,
   "id": "6526de5e-e823-43f7-9a1a-08de7f00363d",
   "metadata": {},
   "outputs": [],
   "source": [
    "df = pd.DataFrame(data_l0.explained_variance_ratio_)"
   ]
  },
  {
   "cell_type": "code",
   "execution_count": 20,
   "id": "6efb6a90-5681-4d07-8ea1-542dc19a707d",
   "metadata": {},
   "outputs": [],
   "source": [
    "a = pd.read_csv(\"~/Desktop/prova.csv\")"
   ]
  },
  {
   "cell_type": "code",
   "execution_count": 21,
   "id": "650c57a9-e3a2-4b24-9f79-cabbc79ce697",
   "metadata": {},
   "outputs": [
    {
     "name": "stdout",
     "output_type": "stream",
     "text": [
      "            0\n",
      "0    0.023407\n",
      "1    0.019403\n",
      "2    0.018641\n",
      "3    0.015772\n",
      "4    0.015124\n",
      "..        ...\n",
      "495  0.000205\n",
      "496  0.000204\n",
      "497  0.000203\n",
      "498  0.000202\n",
      "499  0.000199\n",
      "\n",
      "[500 rows x 1 columns]\n"
     ]
    }
   ],
   "source": [
    "print(a)"
   ]
  },
  {
   "cell_type": "code",
   "execution_count": 8,
   "id": "d00c6623-e209-43f3-be49-38edfc71fba1",
   "metadata": {},
   "outputs": [
    {
     "name": "stdout",
     "output_type": "stream",
     "text": [
      "<class 'sklearn.decomposition._incremental_pca.IncrementalPCA'>\n",
      "(500, 4096)\n",
      "(500,)\n",
      "0.6932016390960234\n",
      "500\n"
     ]
    }
   ],
   "source": [
    "print(type(data_l0))\n",
    "print(data_l0.components_.shape)     # Principal axes (eigenvectors)\n",
    "print(data_l0.explained_variance_.shape)   # Variance explained by each component\n",
    "print(np.sum(data_l0.explained_variance_ratio_))  # Ratio of explained variance\n",
    "print(data_l0.n_components)          # Number of components  "
   ]
  },
  {
   "cell_type": "code",
   "execution_count": 9,
   "id": "2dbf53c2-fba4-4356-b592-81a3e0e4a874",
   "metadata": {},
   "outputs": [],
   "source": [
    "cdf = np.cumsum(data_l0.explained_variance_ratio_)"
   ]
  },
  {
   "cell_type": "code",
   "execution_count": 10,
   "id": "39a3a194-a8de-4b90-bc8e-d8c54cc93bb6",
   "metadata": {},
   "outputs": [
    {
     "data": {
      "text/plain": [
       "Text(0.5, 1.0, 'alexnet classifier.2')"
      ]
     },
     "execution_count": 10,
     "metadata": {},
     "output_type": "execute_result"
    },
    {
     "data": {
      "image/png": "[encoded data removed]",
      "text/plain": [
       "<Figure size 640x480 with 1 Axes>"
      ]
     },
     "metadata": {},
     "output_type": "display_data"
    }
   ],
   "source": [
    "plt.plot(cdf)\n",
    "plt.xlabel(\"# components\")\n",
    "plt.ylabel(\"% var explained\")\n",
    "plt.title(f\"{models[imod]} {layers[imod][ilayer]}\")"
   ]
  },
  {
   "cell_type": "code",
   "execution_count": null,
   "id": "22713c72-1fd1-4191-871f-322d4275624a",
   "metadata": {},
   "outputs": [],
   "source": [
    "    "
   ]
  }
 ],
 "metadata": {
  "kernelspec": {
   "display_name": "ponce_env",
   "language": "python",
   "name": "ponce_env"
  },
  "language_info": {
   "codemirror_mode": {
    "name": "ipython",
    "version": 3
   },
   "file_extension": ".py",
   "mimetype": "text/x-python",
   "name": "python",
   "nbconvert_exporter": "python",
   "pygments_lexer": "ipython3",
   "version": "3.12.4"
  }
 },
 "nbformat": 4,
 "nbformat_minor": 5
}
