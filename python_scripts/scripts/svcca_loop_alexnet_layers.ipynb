{
 "cells": [
  {
   "cell_type": "code",
   "execution_count": 1,
   "metadata": {},
   "outputs": [],
   "source": [
    "import os, sys, time\n",
    "from matplotlib import pyplot as plt\n",
    "%matplotlib inline\n",
    "import numpy as np\n",
    "import joblib\n",
    "#import pickle\n",
    "import pandas\n",
    "import torch\n",
    "sys.path.append(\"/Users/tizianocausin/Desktop/backUp20240609/summer2025/ponce_lab/exp_set/python_scripts/svcca\")\n",
    "import cca_core\n",
    "from sklearn.cross_decomposition import CCA\n",
    "from torchvision.models.feature_extraction import (\n",
    "    create_feature_extractor,\n",
    "    get_graph_node_names,\n",
    ")\n",
    "from datetime import datetime\n",
    "sys.path.append(\"/Users/tizianocausin/Desktop/backUp20240609/summer2025/ponce_lab/exp_set/python_scripts/src\")\n",
    "from dim_redu_anns.utils import get_relevant_output_layers\n",
    "from alignment.CCA import CCA_loop_within_mod"
   ]
  },
  {
   "cell_type": "code",
   "execution_count": null,
   "metadata": {},
   "outputs": [
    {
     "name": "stdout",
     "output_type": "stream",
     "text": [
      "17:56:02 stating layers {target_layer1} vs {target_layer2}\n",
      "17:56:02 CCA already exists for features.4 vs features.0  at /Users/tizianocausin/OneDrive - SISSA/data_repo/exp_set_res/silico/cca_alexnet_maxpool/cca_alexnet_50_components_features.4_vs_features.0.pkl\n",
      "17:56:02 stating layers {target_layer1} vs {target_layer2}\n",
      "17:56:02 CCA already exists for features.7 vs features.0  at /Users/tizianocausin/OneDrive - SISSA/data_repo/exp_set_res/silico/cca_alexnet_maxpool/cca_alexnet_50_components_features.7_vs_features.0.pkl\n",
      "17:56:02 stating layers {target_layer1} vs {target_layer2}\n",
      "17:56:02 CCA already exists for features.7 vs features.4  at /Users/tizianocausin/OneDrive - SISSA/data_repo/exp_set_res/silico/cca_alexnet_maxpool/cca_alexnet_50_components_features.7_vs_features.4.pkl\n",
      "17:56:02 stating layers {target_layer1} vs {target_layer2}\n",
      "17:56:02 CCA already exists for features.9 vs features.0  at /Users/tizianocausin/OneDrive - SISSA/data_repo/exp_set_res/silico/cca_alexnet_maxpool/cca_alexnet_50_components_features.9_vs_features.0.pkl\n",
      "17:56:02 stating layers {target_layer1} vs {target_layer2}\n",
      "17:56:02 CCA already exists for features.9 vs features.4  at /Users/tizianocausin/OneDrive - SISSA/data_repo/exp_set_res/silico/cca_alexnet_maxpool/cca_alexnet_50_components_features.9_vs_features.4.pkl\n",
      "17:56:02 stating layers {target_layer1} vs {target_layer2}\n",
      "17:56:02 CCA already exists for features.9 vs features.7  at /Users/tizianocausin/OneDrive - SISSA/data_repo/exp_set_res/silico/cca_alexnet_maxpool/cca_alexnet_50_components_features.9_vs_features.7.pkl\n",
      "17:56:02 stating layers {target_layer1} vs {target_layer2}\n",
      "17:56:02 CCA already exists for features.11 vs features.0  at /Users/tizianocausin/OneDrive - SISSA/data_repo/exp_set_res/silico/cca_alexnet_maxpool/cca_alexnet_50_components_features.11_vs_features.0.pkl\n",
      "17:56:02 stating layers {target_layer1} vs {target_layer2}\n",
      "17:56:02 CCA already exists for features.11 vs features.4  at /Users/tizianocausin/OneDrive - SISSA/data_repo/exp_set_res/silico/cca_alexnet_maxpool/cca_alexnet_50_components_features.11_vs_features.4.pkl\n",
      "17:56:02 stating layers {target_layer1} vs {target_layer2}\n",
      "17:56:02 CCA already exists for features.11 vs features.7  at /Users/tizianocausin/OneDrive - SISSA/data_repo/exp_set_res/silico/cca_alexnet_maxpool/cca_alexnet_50_components_features.11_vs_features.7.pkl\n",
      "17:56:02 stating layers {target_layer1} vs {target_layer2}\n",
      "17:56:02 CCA already exists for features.11 vs features.9  at /Users/tizianocausin/OneDrive - SISSA/data_repo/exp_set_res/silico/cca_alexnet_maxpool/cca_alexnet_50_components_features.11_vs_features.9.pkl\n",
      "17:56:02 stating layers {target_layer1} vs {target_layer2}\n"
     ]
    }
   ],
   "source": [
    "res_path = \"/Users/tizianocausin/OneDrive - SISSA/data_repo/exp_set_res/silico\"\n",
    "model_name = \"alexnet\"\n",
    "pooling = \"maxpool\"\n",
    "num_components = 50\n",
    "CCA_loop_within_mod(model_name, pooling, num_components, res_path)"
   ]
  },
  {
   "cell_type": "code",
   "execution_count": null,
   "metadata": {},
   "outputs": [],
   "source": []
  }
 ],
 "metadata": {
  "kernelspec": {
   "display_name": "Python 3 (ipykernel)",
   "language": "python",
   "name": "python3"
  },
  "language_info": {
   "codemirror_mode": {
    "name": "ipython",
    "version": 3
   },
   "file_extension": ".py",
   "mimetype": "text/x-python",
   "name": "python",
   "nbconvert_exporter": "python",
   "pygments_lexer": "ipython3",
   "version": "3.12.4"
  },
  "toc": {
   "base_numbering": 1,
   "nav_menu": {},
   "number_sections": false,
   "sideBar": true,
   "skip_h1_title": false,
   "title_cell": "Table of Contents",
   "title_sidebar": "Contents",
   "toc_cell": true,
   "toc_position": {},
   "toc_section_display": true,
   "toc_window_display": true
  }
 },
 "nbformat": 4,
 "nbformat_minor": 4
}
