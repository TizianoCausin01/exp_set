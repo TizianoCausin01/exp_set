{
 "cells": [
  {
   "cell_type": "code",
   "execution_count": 23,
   "id": "de621e71-2978-4e3c-8e09-dd54a0aadf33",
   "metadata": {},
   "outputs": [],
   "source": [
    "from torchvision import models\n",
    "from torchvision.models.feature_extraction import create_feature_extractor, get_graph_node_names\n",
    "import os, yaml, sys\n",
    "ENV = os.getenv(\"MY_ENV\", \"dev\")\n",
    "with open(\"../../config.yaml\", \"r\") as f:\n",
    "    config = yaml.safe_load(f)\n",
    "paths = config[ENV][\"paths\"]\n",
    "sys.path.append(paths[\"src_path\"])\n",
    "from dim_redu_anns.utils import get_layer_out_shape\n",
    "from alignment.utils import get_usual_transform, features_extraction_loop\n",
    "from argparse import Namespace\n",
    "\n"
   ]
  },
  {
   "cell_type": "code",
   "execution_count": 19,
   "id": "bf0d8c9e-01c1-4867-a9b5-8e822e006fc1",
   "metadata": {},
   "outputs": [],
   "source": [
    "device = \"cpu\"\n",
    "args = Namespace()\n",
    "args.model_name = \"alexnet\"\n",
    "model_cls = getattr(models, args.model_name)\n",
    "model = model_cls(pretrained=True).to(device).eval()"
   ]
  },
  {
   "cell_type": "code",
   "execution_count": 21,
   "id": "5bb8fdc6-0da1-495b-b501-e4d76be1bcfe",
   "metadata": {
    "scrolled": true
   },
   "outputs": [
    {
     "name": "stdout",
     "output_type": "stream",
     "text": [
      "x torch.Size([3, 224, 224])\n",
      "features.0 torch.Size([64, 55, 55])\n",
      "features.1 torch.Size([64, 55, 55])\n",
      "features.2 torch.Size([64, 27, 27])\n",
      "features.3 torch.Size([192, 27, 27])\n",
      "features.4 torch.Size([192, 27, 27])\n",
      "features.5 torch.Size([192, 13, 13])\n",
      "features.6 torch.Size([384, 13, 13])\n",
      "features.7 torch.Size([384, 13, 13])\n",
      "features.8 torch.Size([256, 13, 13])\n",
      "features.9 torch.Size([256, 13, 13])\n",
      "features.10 torch.Size([256, 13, 13])\n",
      "features.11 torch.Size([256, 13, 13])\n",
      "features.12 torch.Size([256, 6, 6])\n",
      "avgpool torch.Size([256, 6, 6])\n",
      "flatten torch.Size([9216])\n",
      "classifier.0 torch.Size([9216])\n",
      "classifier.1 torch.Size([4096])\n",
      "classifier.2 torch.Size([4096])\n",
      "classifier.3 torch.Size([4096])\n",
      "classifier.4 torch.Size([4096])\n",
      "classifier.5 torch.Size([4096])\n",
      "classifier.6 torch.Size([1000])\n"
     ]
    }
   ],
   "source": [
    "for l in get_graph_node_names(model)[0]:\n",
    "    feature_extractor = create_feature_extractor(\n",
    "        model, return_nodes=[l]\n",
    "    )\n",
    "    sh = get_layer_out_shape(feature_extractor, l)\n",
    "    print(f\"{l} {sh}\")"
   ]
  },
  {
   "cell_type": "code",
   "execution_count": null,
   "id": "390c534c-d869-4eff-9a79-84db0e7a538e",
   "metadata": {},
   "outputs": [],
   "source": [
    "layer_names = [\"classifier.6\"]\n",
    "model_name = \"alexnet\"\n",
    "model_cls = getattr(models, model_name)\n",
    "model = model_cls(pretrained=True).to(device).eval()\n",
    "batch_size = 3\n",
    "num_images = 9\n",
    "pooling = \"all\"\n",
    "transform = get_usual_trasnform()\n",
    "num_workers = 1\n",
    "imagenet_val_path = paths[\"data_path\"]\n",
    "features_extraction_loop(layer_names, model_name, model, batch_size, num_images, pooling, transform, num_workers, imagenet_val_path, results_path)"
   ]
  },
  {
   "cell_type": "code",
   "execution_count": 24,
   "id": "6080d410-250c-46bd-8174-0e3a51f44111",
   "metadata": {},
   "outputs": [
    {
     "data": {
      "text/plain": [
       "dict_keys(['data_path', 'results_path', 'src_path'])"
      ]
     },
     "execution_count": 24,
     "metadata": {},
     "output_type": "execute_result"
    }
   ],
   "source": [
    "paths.keys()"
   ]
  }
 ],
 "metadata": {
  "kernelspec": {
   "display_name": "ponce_env",
   "language": "python",
   "name": "ponce_env"
  },
  "language_info": {
   "codemirror_mode": {
    "name": "ipython",
    "version": 3
   },
   "file_extension": ".py",
   "mimetype": "text/x-python",
   "name": "python",
   "nbconvert_exporter": "python",
   "pygments_lexer": "ipython3",
   "version": "3.12.4"
  }
 },
 "nbformat": 4,
 "nbformat_minor": 5
}
