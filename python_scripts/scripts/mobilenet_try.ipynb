{
 "cells": [
  {
   "cell_type": "code",
   "execution_count": 4,
   "id": "ceab3369-b28c-4ee6-b8e5-fee7c1f346bb",
   "metadata": {},
   "outputs": [],
   "source": [
    "from torchvision.models import mobilenet_v3_large, MobileNet_V3_Large_Weights\n",
    "from torchvision.models.feature_extraction import create_feature_extractor, get_graph_node_names"
   ]
  },
  {
   "cell_type": "code",
   "execution_count": null,
   "id": "692af23e-b5e6-4f31-995f-d33fb9fca2fd",
   "metadata": {},
   "outputs": [],
   "source": [
    "model = mobilenet_v3_large(pretrained=True)\n",
    "# Get available nodes you can extract features from\n",
    "train_nodes, eval_nodes = get_graph_node_names(model)\n",
    "print(eval_nodes)"
   ]
  },
  {
   "cell_type": "code",
   "execution_count": 5,
   "id": "1e49766a-53a7-4b3b-8f39-ff3ede8bc806",
   "metadata": {},
   "outputs": [
    {
     "name": "stdout",
     "output_type": "stream",
     "text": [
      "Downloading: \"https://download.pytorch.org/models/mobilenet_v3_large-5c1a4163.pth\" to /Users/tizianocausin/.cache/torch/hub/checkpoints/mobilenet_v3_large-5c1a4163.pth\n"
     ]
    },
    {
     "name": "stderr",
     "output_type": "stream",
     "text": [
      "100%|████████████████████████████████████████████████████████████████████████████████████████| 21.1M/21.1M [00:01<00:00, 19.0MB/s]\n"
     ]
    }
   ],
   "source": [
    "model1 = mobilenet_v3_large(weights=MobileNet_V3_Large_Weights.IMAGENET1K_V1)\n",
    "model2 = mobilenet_v3_large(weights=MobileNet_V3_Large_Weights.IMAGENET1K_V2)"
   ]
  },
  {
   "cell_type": "code",
   "execution_count": 10,
   "id": "2569d706-f847-48c7-ad84-b443952f6f90",
   "metadata": {},
   "outputs": [
    {
     "name": "stdout",
     "output_type": "stream",
     "text": [
      "(['x', 'features.0', 'features.1.block.0', 'features.1.block.1', 'features.1.add', 'features.2.block.0', 'features.2.block.1', 'features.2.block.2', 'features.3.block.0', 'features.3.block.1', 'features.3.block.2', 'features.3.add', 'features.4.block.0', 'features.4.block.1', 'features.4.block.2', 'features.4.block.3', 'features.5.block.0', 'features.5.block.1', 'features.5.block.2', 'features.5.block.3', 'features.5.add', 'features.6.block.0', 'features.6.block.1', 'features.6.block.2', 'features.6.block.3', 'features.6.add', 'features.7.block.0', 'features.7.block.1', 'features.7.block.2', 'features.8.block.0', 'features.8.block.1', 'features.8.block.2', 'features.8.add', 'features.9.block.0', 'features.9.block.1', 'features.9.block.2', 'features.9.add', 'features.10.block.0', 'features.10.block.1', 'features.10.block.2', 'features.10.add', 'features.11.block.0', 'features.11.block.1', 'features.11.block.2', 'features.11.block.3', 'features.12.block.0', 'features.12.block.1', 'features.12.block.2', 'features.12.block.3', 'features.12.add', 'features.13.block.0', 'features.13.block.1', 'features.13.block.2', 'features.13.block.3', 'features.14.block.0', 'features.14.block.1', 'features.14.block.2', 'features.14.block.3', 'features.14.add', 'features.15.block.0', 'features.15.block.1', 'features.15.block.2', 'features.15.block.3', 'features.15.add', 'features.16', 'avgpool', 'flatten', 'classifier.0', 'classifier.1', 'classifier.2', 'classifier.3'], ['x', 'features.0', 'features.1.block.0', 'features.1.block.1', 'features.1.add', 'features.2.block.0', 'features.2.block.1', 'features.2.block.2', 'features.3.block.0', 'features.3.block.1', 'features.3.block.2', 'features.3.add', 'features.4.block.0', 'features.4.block.1', 'features.4.block.2', 'features.4.block.3', 'features.5.block.0', 'features.5.block.1', 'features.5.block.2', 'features.5.block.3', 'features.5.add', 'features.6.block.0', 'features.6.block.1', 'features.6.block.2', 'features.6.block.3', 'features.6.add', 'features.7.block.0', 'features.7.block.1', 'features.7.block.2', 'features.8.block.0', 'features.8.block.1', 'features.8.block.2', 'features.8.add', 'features.9.block.0', 'features.9.block.1', 'features.9.block.2', 'features.9.add', 'features.10.block.0', 'features.10.block.1', 'features.10.block.2', 'features.10.add', 'features.11.block.0', 'features.11.block.1', 'features.11.block.2', 'features.11.block.3', 'features.12.block.0', 'features.12.block.1', 'features.12.block.2', 'features.12.block.3', 'features.12.add', 'features.13.block.0', 'features.13.block.1', 'features.13.block.2', 'features.13.block.3', 'features.14.block.0', 'features.14.block.1', 'features.14.block.2', 'features.14.block.3', 'features.14.add', 'features.15.block.0', 'features.15.block.1', 'features.15.block.2', 'features.15.block.3', 'features.15.add', 'features.16', 'avgpool', 'flatten', 'classifier.0', 'classifier.1', 'classifier.2', 'classifier.3'])\n"
     ]
    }
   ],
   "source": [
    "print(get_graph_node_names(model1))"
   ]
  }
 ],
 "metadata": {
  "kernelspec": {
   "display_name": "ponce_env",
   "language": "python",
   "name": "ponce_env"
  },
  "language_info": {
   "codemirror_mode": {
    "name": "ipython",
    "version": 3
   },
   "file_extension": ".py",
   "mimetype": "text/x-python",
   "name": "python",
   "nbconvert_exporter": "python",
   "pygments_lexer": "ipython3",
   "version": "3.12.4"
  }
 },
 "nbformat": 4,
 "nbformat_minor": 5
}
