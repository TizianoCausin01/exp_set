{
 "cells": [
  {
   "cell_type": "code",
   "execution_count": 3,
   "id": "a63b38d4-959d-492a-ae7d-3d70f0cff595",
   "metadata": {},
   "outputs": [],
   "source": [
    "import torch \n",
    "from torchvision.models.feature_extraction import (\n",
    "    create_feature_extractor,\n",
    "    get_graph_node_names,\n",
    ")\n",
    "import sys\n",
    "sys.path.append(\"/Users/tizianocausin/Desktop/backUp20240609/summer2025/ponce_lab/exp_set/python_scripts/src/\")\n",
    "from alignment.utils import get_maxpool_evecs\n",
    "from dim_redu_anns.utils import get_layer_out_shape\n",
    "from torchvision import transforms, datasets, models\n",
    "import joblib\n",
    "import numpy as np\n",
    "from sklearn.cross_decomposition import CCA"
   ]
  },
  {
   "cell_type": "code",
   "execution_count": 4,
   "id": "ad47c925-6bcc-41ba-b340-3e5dc3e5606f",
   "metadata": {},
   "outputs": [
    {
     "name": "stderr",
     "output_type": "stream",
     "text": [
      "/Users/tizianocausin/Desktop/virtual_envs/ponce_env/lib/python3.12/site-packages/torchvision/models/_utils.py:208: UserWarning: The parameter 'pretrained' is deprecated since 0.13 and may be removed in the future, please use 'weights' instead.\n",
      "  warnings.warn(\n",
      "/Users/tizianocausin/Desktop/virtual_envs/ponce_env/lib/python3.12/site-packages/torchvision/models/_utils.py:223: UserWarning: Arguments other than a weight enum or `None` for 'weights' are deprecated since 0.13 and may be removed in the future. The current behavior is equivalent to passing `weights=AlexNet_Weights.IMAGENET1K_V1`. You can also use `weights=AlexNet_Weights.DEFAULT` to get the most up-to-date weights.\n",
      "  warnings.warn(msg)\n"
     ]
    }
   ],
   "source": [
    "model_name = \"alexnet\"\n",
    "layer_names = ['features.4', 'features.7']\n",
    "device = \"cpu\"\n",
    "model_cls = getattr(models, model_name)\n",
    "model = model_cls(pretrained=True).to(device).eval()\n",
    "feature_extractors = [create_feature_extractor(\n",
    "    model, return_nodes=[l_n]\n",
    ").to(device) for l_n in layer_names]\n"
   ]
  },
  {
   "cell_type": "code",
   "execution_count": 5,
   "id": "5f7c84f9-5f73-4cf9-92b9-f691d58540fb",
   "metadata": {},
   "outputs": [],
   "source": [
    "layer_shapes = [get_layer_out_shape(feature_extractors[i], layer_names[i]) for i in range(2)]"
   ]
  },
  {
   "cell_type": "code",
   "execution_count": 6,
   "id": "441dccf1-82c4-4b48-ba97-bb7c0b5c4802",
   "metadata": {},
   "outputs": [],
   "source": [
    "path2files = [f\"/Users/tizianocausin/Library/CloudStorage/OneDrive-SISSA/data_repo/exp_set_res/silico/imagenet_val_{model_name}_{l_n}_pca_model_1000_PCs.pkl\" for l_n in layer_names]\n",
    "data = [joblib.load(p2f) for p2f in path2files]"
   ]
  },
  {
   "cell_type": "code",
   "execution_count": 7,
   "id": "e0d00259-5dc8-414d-aee2-a7351116acc4",
   "metadata": {},
   "outputs": [],
   "source": [
    "evecs = [d.components_ for d in data]"
   ]
  },
  {
   "cell_type": "code",
   "execution_count": 8,
   "id": "6f686f97-3305-46b8-94ed-a18bf22efe85",
   "metadata": {},
   "outputs": [],
   "source": [
    "maxpool_evecs = [get_maxpool_evecs(data[i], layer_names[i], layer_shapes[i]) for i in range(2)]\n",
    "del evecs"
   ]
  },
  {
   "cell_type": "code",
   "execution_count": 30,
   "id": "5fe2d8b1-8b32-4b7b-a5d2-4882e75936ed",
   "metadata": {},
   "outputs": [
    {
     "name": "stderr",
     "output_type": "stream",
     "text": [
      "/Users/tizianocausin/Desktop/virtual_envs/ponce_env/lib/python3.12/site-packages/sklearn/cross_decomposition/_pls.py:104: ConvergenceWarning: Maximum number of iterations reached\n",
      "  warnings.warn(\"Maximum number of iterations reached\", ConvergenceWarning)\n"
     ]
    }
   ],
   "source": [
    "# TODO work with CCA now\n",
    "cca = CCA(n_components = 20)\n",
    "cca.fit(d1,d2)\n",
    "d1_cca, d2_cca = cca2.fit_transform(maxpool_evecs[0], maxpool_evecs[1])"
   ]
  },
  {
   "cell_type": "code",
   "execution_count": 31,
   "id": "add0500f-38cc-44fc-958c-9c97a436d58f",
   "metadata": {},
   "outputs": [],
   "source": [
    "a = np.corrcoef(d1_cca.T, d2_cca.T)#[0,1]"
   ]
  },
  {
   "cell_type": "code",
   "execution_count": 32,
   "id": "323386cd-a276-442d-aa1b-749c110f7488",
   "metadata": {},
   "outputs": [
    {
     "data": {
      "text/plain": [
       "np.float64(-5.382206809626199e-16)"
      ]
     },
     "execution_count": 32,
     "metadata": {},
     "output_type": "execute_result"
    }
   ],
   "source": [
    "a"
   ]
  },
  {
   "cell_type": "code",
   "execution_count": 20,
   "id": "478bf0f3-8e63-4b56-bdeb-3f05ecc574a2",
   "metadata": {},
   "outputs": [
    {
     "data": {
      "text/plain": [
       "(10, 10)"
      ]
     },
     "execution_count": 20,
     "metadata": {},
     "output_type": "execute_result"
    }
   ],
   "source": [
    "a.shape"
   ]
  },
  {
   "cell_type": "code",
   "execution_count": null,
   "id": "30ed01e3-30b7-4c3b-9200-937398d1b2be",
   "metadata": {},
   "outputs": [],
   "source": []
  }
 ],
 "metadata": {
  "kernelspec": {
   "display_name": "ponce_env",
   "language": "python",
   "name": "ponce_env"
  },
  "language_info": {
   "codemirror_mode": {
    "name": "ipython",
    "version": 3
   },
   "file_extension": ".py",
   "mimetype": "text/x-python",
   "name": "python",
   "nbconvert_exporter": "python",
   "pygments_lexer": "ipython3",
   "version": "3.12.4"
  }
 },
 "nbformat": 4,
 "nbformat_minor": 5
}
